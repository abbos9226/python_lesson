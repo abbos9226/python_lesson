{
 "cells": [
  {
   "cell_type": "markdown",
   "metadata": {},
   "source": [
    "## Homework"
   ]
  },
  {
   "cell_type": "markdown",
   "metadata": {},
   "source": [
    "Conditional statements"
   ]
  },
  {
   "cell_type": "code",
   "execution_count": 11,
   "metadata": {},
   "outputs": [
    {
     "name": "stdout",
     "output_type": "stream",
     "text": [
      "you chose:\n",
      "\n",
      "    _______\n",
      "---'   ____)\n",
      "      (______)\n",
      "      (______)\n",
      "      (_____)\n",
      "---.__(____)\n",
      "\n",
      "Computer chose: \n",
      "\n",
      "    _______\n",
      "---'   ____)\n",
      "      (______)\n",
      "      (______)\n",
      "      (_____)\n",
      "---.__(____)\n",
      "\n",
      "Result is:\n",
      "Drow!\n"
     ]
    }
   ],
   "source": [
    "import random\n",
    "rock = \"\"\"\n",
    "    _______\n",
    "---'   ____)\n",
    "      (______)\n",
    "      (______)\n",
    "      (_____)\n",
    "---.__(____)\n",
    "\"\"\"\n",
    "\n",
    "paper = \"\"\"\n",
    "     _______\n",
    "---'    _____)_____\n",
    "           ________)\n",
    "          _________)\n",
    "         _________)\n",
    "---.____________)\n",
    "\"\"\"\n",
    "\n",
    "scissors = \"\"\"\n",
    "    _______\n",
    "---'   ____)_____\n",
    "          _______)\n",
    "       ___________)\n",
    "      (_____)\n",
    "---.__(____)\n",
    "\"\"\"\n",
    "\n",
    "user_choice=int(input(\"what do you choose? \\n0 is rock \\n1 is paper \\n2 is scissors\"))\n",
    "comp_choise=random.randint(0,2)\n",
    "\n",
    "print(\"you chose:\")\n",
    "if user_choice>2 or user_choice<0:\n",
    "    raise ValueError (\"You are not following the role!\")\n",
    "elif user_choice==0:\n",
    "    print(rock)\n",
    "elif user_choice==1:\n",
    "    print(paper)\n",
    "elif user_choice==2:\n",
    "    print(scissors)\n",
    "print(\"Computer chose: \")\n",
    "if comp_choise==0:\n",
    "    print(rock)\n",
    "elif comp_choise==1:\n",
    "    print(paper)\n",
    "elif comp_choise==2:\n",
    "    print(scissors)\n",
    "print(\"Result is:\")\n",
    "if (user_choice==0 and comp_choise==2) or (user_choice==1 and comp_choise==0) or (user_choice==2 and comp_choise==1):\n",
    "    print(\"You won!\")\n",
    "elif user_choice==comp_choise:\n",
    "    print(\"Drow!\")\n",
    "else: \n",
    "    print(\"Computer won!\")"
   ]
  },
  {
   "cell_type": "code",
   "execution_count": null,
   "metadata": {},
   "outputs": [],
   "source": [
    "## Homeworks:\n",
    "1.Write a program that will check evennes of given number\n",
    "\n",
    "2.From given 3 numbers from input, find the biggest number\n",
    "\n",
    "3.Write a program that will find if the number is vowel (aeiou) or consonant"
   ]
  },
  {
   "cell_type": "code",
   "execution_count": 20,
   "metadata": {},
   "outputs": [
    {
     "name": "stdout",
     "output_type": "stream",
     "text": [
      "It is Odd number!\n"
     ]
    }
   ],
   "source": [
    "#1.Write a program that will check evennes of given number\n",
    "\n",
    "x=int(input(\"Enter one number:\"))\n",
    "\n",
    "if x%2==0:\n",
    "    print(\"It is Even number\")\n",
    "else:\n",
    "    print(\"It is Odd number!\")"
   ]
  },
  {
   "cell_type": "code",
   "execution_count": null,
   "metadata": {},
   "outputs": [
    {
     "name": "stdout",
     "output_type": "stream",
     "text": [
      "9 is the biggest\n"
     ]
    }
   ],
   "source": [
    "#2.From given 3 numbers from input, find the biggest number\n",
    "x=int(input(\"Enter number for x:\"))\n",
    "y=int(input(\"Enter number for y:\"))\n",
    "z=int(input(\"Enter number for z:\"))\n",
    "\n",
    "if x>y and x>z:\n",
    "    print(f'{x} is the biggest')\n",
    "elif y>x and y>z:\n",
    "    print(f'{y} is the biggest')\n",
    "else: print(f'{z} is the biggest')"
   ]
  },
  {
   "cell_type": "code",
   "execution_count": 49,
   "metadata": {},
   "outputs": [
    {
     "name": "stdout",
     "output_type": "stream",
     "text": [
      "The biggest is 9\n",
      "The middle is 7\n",
      "The lowest is 4\n"
     ]
    }
   ],
   "source": [
    "#2.From given 3 numbers from input, find the biggest, the middle and the lowest numbers\n",
    "x=int(input(\"Enter number for x:\"))\n",
    "y=int(input(\"Enter number for y:\"))\n",
    "z=int(input(\"Enter number for z:\"))\n",
    "\n",
    "if x>y and x>z:\n",
    "    biggest=x\n",
    "    if y>z:\n",
    "        middle=y\n",
    "        lowest=z\n",
    "    else: \n",
    "        middle=z\n",
    "        lowest=y\n",
    "elif y>x and y>z:\n",
    "    biggest=y\n",
    "    if x>z:\n",
    "        middle=x\n",
    "        lowest=z\n",
    "    else:\n",
    "        middle=z\n",
    "        lowest=x\n",
    "else: \n",
    "    biggest=z\n",
    "    if y>x:\n",
    "        middle=y\n",
    "        lowest=x\n",
    "    else:\n",
    "        middle=x\n",
    "        lowest=y\n",
    "print(f'The biggest is {biggest}')\n",
    "print(f'The middle is {middle}')\n",
    "print(f'The lowest is {lowest}')"
   ]
  },
  {
   "cell_type": "code",
   "execution_count": null,
   "metadata": {},
   "outputs": [
    {
     "name": "stdout",
     "output_type": "stream",
     "text": [
      "w is consonant letter\n"
     ]
    }
   ],
   "source": [
    "#3.Write a program that will find if the letter is vowel (aeiou) or consonant\n",
    "x=input(\"Enter one letter:\")\n",
    "\n",
    "\n",
    "if x in ['a','e','i','o','u']:\n",
    "    print(f'{x} is vowel letter!')\n",
    "else: print(f'{x} is consonant letter')\n",
    "\n",
    "\n"
   ]
  },
  {
   "cell_type": "code",
   "execution_count": 50,
   "metadata": {},
   "outputs": [
    {
     "name": "stdout",
     "output_type": "stream",
     "text": [
      "d is consonant letter\n"
     ]
    }
   ],
   "source": [
    "#3.Write a program that will find if the number is vowel (aeiou) or consonant\n",
    "x=input(\"Enter letter\")\n",
    "if x.isalpha():\n",
    "    if x in ['a','e','i','o','u']:\n",
    "        print(f'{x} is vowel letter!')\n",
    "    else: \n",
    "        print(f'{x} is consonant letter')\n",
    "else:\n",
    "    #print(f'{x} is not letter')\n",
    "    raise ValueError(f'{x} is not letter')"
   ]
  }
 ],
 "metadata": {
  "kernelspec": {
   "display_name": "Python 3",
   "language": "python",
   "name": "python3"
  },
  "language_info": {
   "codemirror_mode": {
    "name": "ipython",
    "version": 3
   },
   "file_extension": ".py",
   "mimetype": "text/x-python",
   "name": "python",
   "nbconvert_exporter": "python",
   "pygments_lexer": "ipython3",
   "version": "3.13.1"
  }
 },
 "nbformat": 4,
 "nbformat_minor": 2
}
