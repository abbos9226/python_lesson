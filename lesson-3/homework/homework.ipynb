{
 "cells": [
  {
   "cell_type": "markdown",
   "metadata": {},
   "source": [
    "Homework\n",
    "\n",
    "Given two integer variables: a and b. Swap the values of the variables.\n",
    "a = int(input())\n",
    "b = int(input())\n",
    "\n",
    "write code here. Don't change given conditions\n",
    "print(a, b)\n",
    "\n",
    "Solve this problem in 3 ways"
   ]
  },
  {
   "cell_type": "code",
   "execution_count": 7,
   "metadata": {},
   "outputs": [
    {
     "name": "stdout",
     "output_type": "stream",
     "text": [
      "2 1\n"
     ]
    }
   ],
   "source": [
    "#1st way\n",
    "a = int(input())\n",
    "b = int(input())\n",
    "\n",
    "x = a\n",
    "a = b\n",
    "b = x\n",
    "\n",
    "print(a, b) \n"
   ]
  },
  {
   "cell_type": "code",
   "execution_count": 8,
   "metadata": {},
   "outputs": [
    {
     "name": "stdout",
     "output_type": "stream",
     "text": [
      "2 1\n"
     ]
    }
   ],
   "source": [
    "#2nd way\n",
    "a = int(input())\n",
    "b = int(input())\n",
    "\n",
    "a,b=b,a\n",
    "print(a,b)"
   ]
  },
  {
   "cell_type": "code",
   "execution_count": 10,
   "metadata": {},
   "outputs": [
    {
     "name": "stdout",
     "output_type": "stream",
     "text": [
      "[2, 1]\n"
     ]
    }
   ],
   "source": [
    "#3rd way\n",
    "a = int(input())\n",
    "b = int(input())\n",
    "\n",
    "ls=[a,b]\n",
    "ls.reverse()\n",
    "print(ls)"
   ]
  }
 ],
 "metadata": {
  "kernelspec": {
   "display_name": "Python 3",
   "language": "python",
   "name": "python3"
  },
  "language_info": {
   "codemirror_mode": {
    "name": "ipython",
    "version": 3
   },
   "file_extension": ".py",
   "mimetype": "text/x-python",
   "name": "python",
   "nbconvert_exporter": "python",
   "pygments_lexer": "ipython3",
   "version": "3.13.1"
  }
 },
 "nbformat": 4,
 "nbformat_minor": 2
}
