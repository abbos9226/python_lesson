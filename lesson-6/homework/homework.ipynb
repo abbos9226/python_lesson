{
 "cells": [
  {
   "cell_type": "code",
   "execution_count": 19,
   "metadata": {},
   "outputs": [
    {
     "name": "stdout",
     "output_type": "stream",
     "text": [
      "5 x 1 = 5\n",
      "5 x 2 = 10\n",
      "5 x 3 = 15\n",
      "5 x 4 = 20\n",
      "5 x 5 = 25\n",
      "5 x 6 = 30\n",
      "5 x 7 = 35\n",
      "5 x 8 = 40\n",
      "5 x 9 = 45\n",
      "5 x 10 = 50\n"
     ]
    }
   ],
   "source": [
    "num=5\n",
    "\n",
    "for u in range(1,11):\n",
    "    print(f\"{num} x {u} = {num*u}\")"
   ]
  },
  {
   "cell_type": "code",
   "execution_count": 22,
   "metadata": {},
   "outputs": [
    {
     "data": {
      "text/plain": [
       "[1, 3, 5, 7, 9]"
      ]
     },
     "execution_count": 22,
     "metadata": {},
     "output_type": "execute_result"
    }
   ],
   "source": [
    "odd_numbers=[ x for x in range(0,11) if x%2==1]\n",
    "odd_numbers"
   ]
  },
  {
   "cell_type": "markdown",
   "metadata": {},
   "source": [
    "### Count vowel letters in the text"
   ]
  },
  {
   "cell_type": "code",
   "execution_count": 5,
   "metadata": {},
   "outputs": [
    {
     "name": "stdout",
     "output_type": "stream",
     "text": [
      "textda 6 ta unli xarf qatnashgan!\n"
     ]
    }
   ],
   "source": [
    "text = \"Hello worlda\"\n",
    "count=0\n",
    "\n",
    "for x in text:\n",
    "    if x in ('a','e','i','o','u'):\n",
    "        count+=1\n",
    "print(f'textda {count} ta unli xarf qatnashgan!') "
   ]
  },
  {
   "cell_type": "markdown",
   "metadata": {},
   "source": [
    "### Reverse the text\n"
   ]
  },
  {
   "cell_type": "code",
   "execution_count": 2,
   "metadata": {},
   "outputs": [
    {
     "name": "stdout",
     "output_type": "stream",
     "text": [
      "Reversed text: nohtyP\n"
     ]
    }
   ],
   "source": [
    "#Reverse the word\n",
    "text=\"Python\"\n",
    "reversed_text=\"\"\n",
    "for a in text:\n",
    "    reversed_text=a+reversed_text \n",
    "print(\"Reversed text:\", reversed_text) "
   ]
  },
  {
   "cell_type": "markdown",
   "metadata": {},
   "source": [
    "### Find Max"
   ]
  },
  {
   "cell_type": "code",
   "execution_count": 29,
   "metadata": {},
   "outputs": [
    {
     "name": "stdout",
     "output_type": "stream",
     "text": [
      "Maximum namber is: 9\n"
     ]
    }
   ],
   "source": [
    "#1st way\n",
    "numbers = [5, 3, 8, 2, 9, 4]\n",
    "max_num=numbers[0]\n",
    "for a in numbers:\n",
    "    if a>max_num:\n",
    "        max_num=a\n",
    "print(\"Maximum namber is:\",max_num) "
   ]
  },
  {
   "cell_type": "code",
   "execution_count": 28,
   "metadata": {},
   "outputs": [
    {
     "name": "stdout",
     "output_type": "stream",
     "text": [
      "Maximum number is: 9\n"
     ]
    }
   ],
   "source": [
    "#2nd way\n",
    "numbers = [5, 3, 8, 2, 9, 4]\n",
    "count=0\n",
    "for a in numbers:\n",
    "    print(\"Maximum number is:\",max(numbers))\n",
    "    count<2\n",
    "    break "
   ]
  }
 ],
 "metadata": {
  "kernelspec": {
   "display_name": "Python 3",
   "language": "python",
   "name": "python3"
  },
  "language_info": {
   "codemirror_mode": {
    "name": "ipython",
    "version": 3
   },
   "file_extension": ".py",
   "mimetype": "text/x-python",
   "name": "python",
   "nbconvert_exporter": "python",
   "pygments_lexer": "ipython3",
   "version": "3.13.1"
  }
 },
 "nbformat": 4,
 "nbformat_minor": 2
}
