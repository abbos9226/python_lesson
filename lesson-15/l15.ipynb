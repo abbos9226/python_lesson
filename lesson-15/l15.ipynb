{
 "cells": [
  {
   "cell_type": "markdown",
   "metadata": {},
   "source": [
    "## Databases"
   ]
  },
  {
   "cell_type": "code",
   "execution_count": 1,
   "metadata": {},
   "outputs": [],
   "source": [
    "import sqlite3"
   ]
  },
  {
   "cell_type": "code",
   "execution_count": 2,
   "metadata": {},
   "outputs": [],
   "source": [
    "import sqlite3\n",
    "\n",
    "con = sqlite3.connect('test.db')"
   ]
  },
  {
   "cell_type": "code",
   "execution_count": 3,
   "metadata": {},
   "outputs": [
    {
     "data": {
      "text/plain": [
       "sqlite3.Connection"
      ]
     },
     "execution_count": 3,
     "metadata": {},
     "output_type": "execute_result"
    }
   ],
   "source": [
    "type(con)"
   ]
  },
  {
   "cell_type": "code",
   "execution_count": 5,
   "metadata": {},
   "outputs": [
    {
     "data": {
      "text/plain": [
       "sqlite3.Cursor"
      ]
     },
     "execution_count": 5,
     "metadata": {},
     "output_type": "execute_result"
    }
   ],
   "source": [
    "cursor = con.cursor()\n",
    "\n",
    "type(cursor)"
   ]
  },
  {
   "cell_type": "code",
   "execution_count": 12,
   "metadata": {},
   "outputs": [
    {
     "name": "stdout",
     "output_type": "stream",
     "text": [
      "<sqlite3.Cursor object at 0x00000286588FD240>\n"
     ]
    }
   ],
   "source": [
    "query = \"Select datetime('now', 'localtime')\"\n",
    "\n",
    "result = cursor.execute(query)\n",
    "\n",
    "print(result)"
   ]
  },
  {
   "cell_type": "code",
   "execution_count": 13,
   "metadata": {},
   "outputs": [
    {
     "data": {
      "text/plain": [
       "('2025-03-05 20:03:45',)"
      ]
     },
     "execution_count": 13,
     "metadata": {},
     "output_type": "execute_result"
    }
   ],
   "source": [
    "rows = result.fetchone()\n",
    "\n",
    "rows"
   ]
  },
  {
   "cell_type": "code",
   "execution_count": 14,
   "metadata": {},
   "outputs": [
    {
     "data": {
      "text/plain": [
       "'2025-03-05 20:03:45'"
      ]
     },
     "execution_count": 14,
     "metadata": {},
     "output_type": "execute_result"
    }
   ],
   "source": [
    "t = rows[0]\n",
    "t"
   ]
  },
  {
   "cell_type": "code",
   "execution_count": 15,
   "metadata": {},
   "outputs": [],
   "source": [
    "con.close()"
   ]
  },
  {
   "cell_type": "code",
   "execution_count": 16,
   "metadata": {},
   "outputs": [
    {
     "data": {
      "text/plain": [
       "'2025-03-05 20:08:41'"
      ]
     },
     "execution_count": 16,
     "metadata": {},
     "output_type": "execute_result"
    }
   ],
   "source": [
    "with sqlite3.connect('test.db') as con:\n",
    "    cursor = con.cursor()\n",
    "    query = \"Select datetime('now', 'localtime')\"\n",
    "    result = cursor.execute(query)\n",
    "    rows = result.fetchone()\n",
    "    t = rows[0]\n",
    "    \n",
    "\n",
    "t"
   ]
  },
  {
   "cell_type": "code",
   "execution_count": null,
   "metadata": {},
   "outputs": [],
   "source": [
    "import sqlite3\n",
    "\n",
    "create_table = \"\"\"\n",
    "Create table People \n",
    "(FirstName TEXT, LastName TEXT, Age INT);\n",
    "\"\"\"\n",
    "insert_table = \"\"\"\n",
    "Insert into People values\n",
    "('Bob', 'Johnson', 35),\n",
    "('Alex', 'Robertson', 24);\n",
    "\"\"\"\n",
    "\n",
    "con = sqlite3.connect('test.db')\n",
    "cursor = con.cursor()\n",
    "cursor.execute(create_table)\n",
    "cursor.execute(insert_table)\n",
    "con.commit()\n",
    "con.close()"
   ]
  },
  {
   "cell_type": "code",
   "execution_count": 58,
   "metadata": {},
   "outputs": [
    {
     "data": {
      "text/plain": [
       "('Bob', 'Johnson', 35)"
      ]
     },
     "execution_count": 58,
     "metadata": {},
     "output_type": "execute_result"
    }
   ],
   "source": [
    "con = sqlite3.connect('test.db')\n",
    "cursor = con.cursor()\n",
    "query = 'Select FirstName, LastName, Age from People'\n",
    "result = cursor.execute(query)\n",
    "result.fetchone()\n"
   ]
  },
  {
   "cell_type": "code",
   "execution_count": 64,
   "metadata": {},
   "outputs": [],
   "source": [
    "import sqlite3\n",
    "connection = sqlite3.connect('l15.db', timeout=10)\n",
    "cursor.execute('DROP TABLE if exists People;')\n",
    "con.commit()\n",
    "con.close()"
   ]
  },
  {
   "cell_type": "code",
   "execution_count": null,
   "metadata": {},
   "outputs": [
    {
     "ename": "OperationalError",
     "evalue": "database is locked",
     "output_type": "error",
     "traceback": [
      "\u001b[1;31m---------------------------------------------------------------------------\u001b[0m",
      "\u001b[1;31mOperationalError\u001b[0m                          Traceback (most recent call last)",
      "Cell \u001b[1;32mIn[34], line 16\u001b[0m\n\u001b[0;32m     14\u001b[0m \u001b[38;5;28;01mwith\u001b[39;00m sqlite3\u001b[38;5;241m.\u001b[39mconnect(\u001b[38;5;124m'\u001b[39m\u001b[38;5;124mtest.db\u001b[39m\u001b[38;5;124m'\u001b[39m) \u001b[38;5;28;01mas\u001b[39;00m con:\n\u001b[0;32m     15\u001b[0m     cursor \u001b[38;5;241m=\u001b[39m con\u001b[38;5;241m.\u001b[39mcursor()\n\u001b[1;32m---> 16\u001b[0m     \u001b[43mcursor\u001b[49m\u001b[38;5;241;43m.\u001b[39;49m\u001b[43mexecutescript\u001b[49m\u001b[43m(\u001b[49m\u001b[43mcreate_table\u001b[49m\u001b[43m)\u001b[49m\n",
      "\u001b[1;31mOperationalError\u001b[0m: database is locked"
     ]
    }
   ],
   "source": [
    "import sqlite3\n",
    "\n",
    "\n",
    "create_table = \"\"\"\n",
    "drop table if exists people;\n",
    "Create table People \n",
    "(FirstName TEXT, LastName TEXT, Age INT);\n",
    "\"\"\"\n",
    "insert_table = \"\"\"\n",
    "Insert into People values\n",
    "('Bob', 'Johnson', 35),\n",
    "('Alex', 'Robertson', 24);\n",
    "\"\"\"\n",
    "\n",
    "with sqlite3.connect('test.db') as con:\n",
    "    cursor = con.cursor()\n",
    "    cursor.executescript(create_table)"
   ]
  },
  {
   "cell_type": "code",
   "execution_count": 67,
   "metadata": {},
   "outputs": [
    {
     "data": {
      "text/plain": [
       "[]"
      ]
     },
     "execution_count": 67,
     "metadata": {},
     "output_type": "execute_result"
    }
   ],
   "source": [
    "import sqlite3 \n",
    "\n",
    "with sqlite3.connect('l15.db') as con:\n",
    "    people_values = (('Bob', 'Alex', 26), ('Tom', 'Smith', 44))\n",
    "    cursor = con.cursor()\n",
    "    result = cursor.executemany(\"insert into people values (?, ?, ?)\", people_values)\n",
    "    \n",
    "result.fetchall()"
   ]
  },
  {
   "cell_type": "code",
   "execution_count": 63,
   "metadata": {},
   "outputs": [],
   "source": [
    "import sqlite3 \n",
    "\n",
    "first_name = input('Enter your First Name: ')\n",
    "last_name = input('Enter your Last Name: ')\n",
    "age = input('Enter your age: ')\n",
    "\n",
    "query = (\n",
    "    \"Insert into People values\"\n",
    "    f\"('{first_name}', '{last_name}', {age});\"\n",
    ")\n",
    "\n",
    "with sqlite3.connect('l15.db') as con:\n",
    "    cursor = con.cursor()\n",
    "    cursor.execute(query)"
   ]
  },
  {
   "cell_type": "code",
   "execution_count": 69,
   "metadata": {},
   "outputs": [
    {
     "data": {
      "text/plain": [
       "[('Bob', 'Alex', 26), ('Bob', 'Alex', 26)]"
      ]
     },
     "execution_count": 69,
     "metadata": {},
     "output_type": "execute_result"
    }
   ],
   "source": [
    "result = cursor.execute(\"Select * from people where age = 26\")\n",
    "\n",
    "result.fetchall()"
   ]
  },
  {
   "cell_type": "code",
   "execution_count": 71,
   "metadata": {},
   "outputs": [
    {
     "name": "stdout",
     "output_type": "stream",
     "text": [
      "('Ron', 'Obvious', 42)\n",
      "('Luigi', 'Vercotti', 43)\n"
     ]
    }
   ],
   "source": [
    "import sqlite3\n",
    "values = (\n",
    "    (\"Ron\", \"Obvious\", 42),\n",
    "    (\"Luigi\", \"Vercotti\", 43),\n",
    "    (\"Arthur\", \"Belling\", 28),\n",
    ")\n",
    "with sqlite3.connect(\"l15.db\") as connection:\n",
    "    cursor = connection.cursor()\n",
    "    cursor.execute(\"DROP TABLE IF EXISTS People\")\n",
    "    cursor.execute(\"\"\"\n",
    "        CREATE TABLE People(\n",
    "        FirstName TEXT,\n",
    "        LastName TEXT,\n",
    "        Age INT\n",
    "        );\"\"\"\n",
    "    )\n",
    "cursor.executemany(\"INSERT INTO People VALUES(?, ?, ?);\", values)\n",
    "# Select all first and last names from people over age 30\n",
    "cursor.execute(\n",
    "\"SELECT FirstName, LastName, Age FROM People WHERE Age > 30;\"\n",
    ")\n",
    "for row in cursor.fetchall():\n",
    "    print(row)\n"
   ]
  }
 ],
 "metadata": {
  "kernelspec": {
   "display_name": "Python 3",
   "language": "python",
   "name": "python3"
  },
  "language_info": {
   "codemirror_mode": {
    "name": "ipython",
    "version": 3
   },
   "file_extension": ".py",
   "mimetype": "text/x-python",
   "name": "python",
   "nbconvert_exporter": "python",
   "pygments_lexer": "ipython3",
   "version": "3.10.9"
  }
 },
 "nbformat": 4,
 "nbformat_minor": 2
}
