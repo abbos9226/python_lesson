{
 "cells": [
  {
   "cell_type": "markdown",
   "metadata": {},
   "source": [
    "1. Create a new database with a table named Roster that has three fields: Name, Species, and Age. The Name and Species columns should be text fields, and the Age column should be an integer field."
   ]
  },
  {
   "cell_type": "code",
   "execution_count": 8,
   "metadata": {},
   "outputs": [],
   "source": [
    "import sqlite3\n",
    "\n",
    "con=sqlite3.connect('test.db')"
   ]
  },
  {
   "cell_type": "code",
   "execution_count": 9,
   "metadata": {},
   "outputs": [
    {
     "ename": "OperationalError",
     "evalue": "table Roster already exists",
     "output_type": "error",
     "traceback": [
      "\u001b[1;31m---------------------------------------------------------------------------\u001b[0m",
      "\u001b[1;31mOperationalError\u001b[0m                          Traceback (most recent call last)",
      "Cell \u001b[1;32mIn[9], line 9\u001b[0m\n\u001b[0;32m      7\u001b[0m \u001b[38;5;28;01mwith\u001b[39;00m sqlite3\u001b[38;5;241m.\u001b[39mconnect(\u001b[38;5;124m'\u001b[39m\u001b[38;5;124mtest.db\u001b[39m\u001b[38;5;124m'\u001b[39m) \u001b[38;5;28;01mas\u001b[39;00m con:\n\u001b[0;32m      8\u001b[0m     cursor\u001b[38;5;241m=\u001b[39mcon\u001b[38;5;241m.\u001b[39mcursor()\n\u001b[1;32m----> 9\u001b[0m     \u001b[43mcursor\u001b[49m\u001b[38;5;241;43m.\u001b[39;49m\u001b[43mexecutescript\u001b[49m\u001b[43m(\u001b[49m\u001b[43mcreate_table\u001b[49m\u001b[43m)\u001b[49m\n",
      "\u001b[1;31mOperationalError\u001b[0m: table Roster already exists"
     ]
    }
   ],
   "source": [
    "import sqlite3\n",
    "\n",
    "create_table=\"\"\"\n",
    "Create table Roster (Name TEXT, Species TEXT, Age int)\n",
    "\"\"\"\n",
    "\n",
    "with sqlite3.connect('test.db') as con:\n",
    "    cursor=con.cursor()\n",
    "    cursor.executescript(create_table)"
   ]
  },
  {
   "cell_type": "markdown",
   "metadata": {},
   "source": [
    "2.Populate your new table with the following values:\n",
    "\n",
    "Name\t        Species\tAge\n",
    "Benjamin Sisko\tHuman\t40\n",
    "Jadzia Dax\t    Trill\t300\n",
    "Kira Nerys\t    Bajoran\t29"
   ]
  },
  {
   "cell_type": "code",
   "execution_count": null,
   "metadata": {},
   "outputs": [
    {
     "data": {
      "text/plain": [
       "<sqlite3.Cursor at 0x299292d1ac0>"
      ]
     },
     "execution_count": 11,
     "metadata": {},
     "output_type": "execute_result"
    }
   ],
   "source": [
    "import sqlite3\n",
    "with sqlite3.connect('test.db') as con:\n",
    "    insert_value=(('Benjamin Sisko','Human',40),('Jadzia Dax','Trill',300),('Kira Nerys','Bajoran',29))\n",
    "    cursor=con.cursor()\n",
    "    result=cursor.executemany(\"insert into roster values(?,?,?)\",insert_value)\n",
    "result \n"
   ]
  },
  {
   "cell_type": "code",
   "execution_count": 14,
   "metadata": {},
   "outputs": [
    {
     "data": {
      "text/plain": [
       "<sqlite3.Cursor at 0x2992930ebc0>"
      ]
     },
     "execution_count": 14,
     "metadata": {},
     "output_type": "execute_result"
    }
   ],
   "source": [
    "import sqlite3\n",
    "\n",
    "with sqlite3.connect('test.db') as con:\n",
    "    insert_val=(('Abbos','Otakulov',27),('Davlat','Ergoziev',38),('Mirzohid','Choriev',24))\n",
    "    cursor=con.cursor()\n",
    "    result=cursor.executemany(\"insert into roster values (?,?,?)\",insert_val) \n",
    "result "
   ]
  },
  {
   "cell_type": "markdown",
   "metadata": {},
   "source": [
    "3.Update the Name of Jadzia Dax to be Ezri Dax"
   ]
  },
  {
   "cell_type": "code",
   "execution_count": 23,
   "metadata": {},
   "outputs": [
    {
     "name": "stdout",
     "output_type": "stream",
     "text": [
      "Updated successfully!\n"
     ]
    }
   ],
   "source": [
    "import sqlite3\n",
    "\n",
    "\n",
    "with sqlite3.connect('test.db') as conn:\n",
    "    cursor = conn.cursor()\n",
    "    cursor.execute(\"UPDATE Roster SET Name = ? WHERE Name = ?\", (\"Ezri Dax\", \"Jadzia Dax\"))\n",
    "    conn.commit()\n",
    "\n",
    "print(\"Updated successfully!\") "
   ]
  },
  {
   "cell_type": "code",
   "execution_count": 34,
   "metadata": {},
   "outputs": [
    {
     "name": "stdout",
     "output_type": "stream",
     "text": [
      "Deleted successfully!\n"
     ]
    }
   ],
   "source": [
    "import sqlite3\n",
    "\n",
    "with sqlite3.connect('test.db') as con:\n",
    "    cursor=con.cursor()\n",
    "    cursor.execute(\"Delete from Roster where name=? \", ('Mirzohid',))\n",
    "    con.commit()\n",
    "    print(\"Deleted successfully!\")"
   ]
  },
  {
   "cell_type": "markdown",
   "metadata": {},
   "source": [
    "4.Display the Name and Age of everyone in the table classified as Bajoran."
   ]
  },
  {
   "cell_type": "code",
   "execution_count": 45,
   "metadata": {},
   "outputs": [
    {
     "name": "stdout",
     "output_type": "stream",
     "text": [
      "Name is:Kira Nerys, age is: 29\n"
     ]
    }
   ],
   "source": [
    "import sqlite3\n",
    "\n",
    "with sqlite3.connect('test.db') as con:\n",
    "    cursor=con.cursor()\n",
    "    cursor.execute('select name, age from roster where Species=?',('Bajoran',))\n",
    "    result=cursor.fetchall()\n",
    "    result\n",
    "\n",
    "for name, age in result:\n",
    "    print(f'Name is:{name}, age is: {age}') "
   ]
  }
 ],
 "metadata": {
  "kernelspec": {
   "display_name": "Python 3",
   "language": "python",
   "name": "python3"
  },
  "language_info": {
   "codemirror_mode": {
    "name": "ipython",
    "version": 3
   },
   "file_extension": ".py",
   "mimetype": "text/x-python",
   "name": "python",
   "nbconvert_exporter": "python",
   "pygments_lexer": "ipython3",
   "version": "3.13.1"
  }
 },
 "nbformat": 4,
 "nbformat_minor": 2
}
