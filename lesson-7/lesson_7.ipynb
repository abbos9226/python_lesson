{
 "cells": [
  {
   "cell_type": "markdown",
   "metadata": {},
   "source": [
    "Homework\n",
    "\n",
    "Count Vowels in a String\n",
    "\n",
    "Problem:\n",
    "Count the number of vowels (a, e, i, o, u) in a given string."
   ]
  },
  {
   "cell_type": "code",
   "execution_count": 66,
   "metadata": {},
   "outputs": [
    {
     "name": "stdout",
     "output_type": "stream",
     "text": [
      "Vowels in hello world: 3\n"
     ]
    }
   ],
   "source": [
    "text = \"hello world\"\n",
    "\n",
    "count = 0\n",
    "for char in text:\n",
    "    if char in \"aeuioAEUIO\":\n",
    "        count += 1\n",
    "\n",
    "print(f'Vowels in {text}: {count}')"
   ]
  },
  {
   "cell_type": "code",
   "execution_count": 67,
   "metadata": {},
   "outputs": [
    {
     "name": "stdout",
     "output_type": "stream",
     "text": [
      "Vowels in hello worldaaaaa: 3\n"
     ]
    }
   ],
   "source": [
    "text = \"hello worldaaaaa\"\n",
    "\n",
    "vowel_unique = set()\n",
    "for char in text:\n",
    "    if char in \"aeuioAEUIO\":\n",
    "        vowel_unique.add(char)\n",
    "\n",
    "print(f'Vowels in {text}: {len(vowel_unique)}')"
   ]
  },
  {
   "cell_type": "markdown",
   "metadata": {},
   "source": [
    "Find the Maximum Number in a List\n",
    "\n",
    "Problem:\n",
    "Find the maximum number in a list using a loop (without using max()).\n"
   ]
  },
  {
   "cell_type": "code",
   "execution_count": 68,
   "metadata": {},
   "outputs": [
    {
     "name": "stdout",
     "output_type": "stream",
     "text": [
      "Max number in a list: 83\n"
     ]
    }
   ],
   "source": [
    "ls = [1,6,83,6,2, -100]\n",
    "\n",
    "max_num = 0\n",
    "for num in ls:\n",
    "    if num>max_num:\n",
    "        max_num = num\n",
    "\n",
    "print(f'Max number in a list: {max_num}')"
   ]
  },
  {
   "cell_type": "code",
   "execution_count": null,
   "metadata": {},
   "outputs": [],
   "source": []
  },
  {
   "cell_type": "markdown",
   "metadata": {},
   "source": [
    "# Functions"
   ]
  },
  {
   "cell_type": "code",
   "execution_count": null,
   "metadata": {},
   "outputs": [],
   "source": [
    "# 4 Types of functions:\n",
    "    # 1. no param/ no return-value\n",
    "    # 2. param/ no return-value\n",
    "    # 3. no param/ return-value\n",
    "    # 4. param/ return-value\n",
    "\n",
    "# Recursive functions\n",
    "\n",
    "# *arg, **kwargs\n",
    "# default arguments\n",
    "\n",
    "# Function documentation\n",
    "\n",
    "# Scope\n",
    "\n",
    "# map, filter"
   ]
  },
  {
   "cell_type": "code",
   "execution_count": 69,
   "metadata": {},
   "outputs": [
    {
     "name": "stdout",
     "output_type": "stream",
     "text": [
      "Hello Abdulaziz, You are 25 years old.\n"
     ]
    }
   ],
   "source": [
    "def say_hello(name, date_birth):\n",
    "    print(f'Hello {name}, You are {2025 - date_birth} years old.')\n",
    "\n",
    "\n",
    "ls = say_hello('Abdulaziz', 2000)"
   ]
  },
  {
   "cell_type": "code",
   "execution_count": 70,
   "metadata": {},
   "outputs": [],
   "source": [
    "ls"
   ]
  },
  {
   "cell_type": "code",
   "execution_count": 71,
   "metadata": {},
   "outputs": [
    {
     "name": "stdout",
     "output_type": "stream",
     "text": [
      "Hello Abdulaziz, You are 25 years old.\n"
     ]
    }
   ],
   "source": [
    "returned_value = say_hello('Abdulaziz', 2000)"
   ]
  },
  {
   "cell_type": "code",
   "execution_count": 72,
   "metadata": {},
   "outputs": [],
   "source": [
    "returned_value"
   ]
  },
  {
   "cell_type": "markdown",
   "metadata": {},
   "source": [
    "## 4 Types of functions:"
   ]
  },
  {
   "cell_type": "code",
   "execution_count": 74,
   "metadata": {},
   "outputs": [
    {
     "name": "stdout",
     "output_type": "stream",
     "text": [
      "Hello world\n"
     ]
    }
   ],
   "source": [
    "# 1. no param/ no return-value\n",
    "def say_hello():\n",
    "    print('Hello world')\n",
    "\n",
    "say_hello()"
   ]
  },
  {
   "cell_type": "code",
   "execution_count": 75,
   "metadata": {},
   "outputs": [
    {
     "name": "stdout",
     "output_type": "stream",
     "text": [
      "Hello world\n"
     ]
    }
   ],
   "source": [
    "# 1. no param/ no return-value\n",
    "def say_hello():\n",
    "    print('Hello world')\n",
    "\n",
    "say_hello()"
   ]
  },
  {
   "cell_type": "code",
   "execution_count": 76,
   "metadata": {},
   "outputs": [
    {
     "name": "stdout",
     "output_type": "stream",
     "text": [
      "Hello 2005, You are Abdulaziz years old.\n"
     ]
    }
   ],
   "source": [
    "# 2. param/ no return-value\n",
    "def say_hello(name, date_birth):\n",
    "    print(f'Hello {name}, You are {date_birth} years old.')\n",
    "\n",
    "ls = [say_hello(date_birth='Abdulaziz', name=2005)]\n"
   ]
  },
  {
   "cell_type": "code",
   "execution_count": 77,
   "metadata": {},
   "outputs": [],
   "source": [
    "# 3. no param/ return-value\n",
    "def say_hello():\n",
    "    return 'Hello world'\n",
    "\n",
    "val = say_hello()"
   ]
  },
  {
   "cell_type": "code",
   "execution_count": 78,
   "metadata": {},
   "outputs": [
    {
     "name": "stdout",
     "output_type": "stream",
     "text": [
      "Values are returned\n"
     ]
    }
   ],
   "source": [
    "# 4. param/ return-value\n",
    "def say_hello(name, date_birth):\n",
    "    print('Values are returned')\n",
    "    return f'Hello {name}, You are {2025 - date_birth} years old.'\n",
    "\n",
    "val = say_hello('Abdulaziz', 2010)"
   ]
  },
  {
   "cell_type": "code",
   "execution_count": 79,
   "metadata": {},
   "outputs": [
    {
     "ename": "TypeError",
     "evalue": "say_hello() missing 2 required positional arguments: 'name' and 'date_birth'",
     "output_type": "error",
     "traceback": [
      "\u001b[1;31m---------------------------------------------------------------------------\u001b[0m",
      "\u001b[1;31mTypeError\u001b[0m                                 Traceback (most recent call last)",
      "Cell \u001b[1;32mIn[79], line 2\u001b[0m\n\u001b[0;32m      1\u001b[0m second_name_for_sayhello \u001b[38;5;241m=\u001b[39m say_hello\n\u001b[1;32m----> 2\u001b[0m \u001b[43msecond_name_for_sayhello\u001b[49m\u001b[43m(\u001b[49m\u001b[43m)\u001b[49m\n",
      "\u001b[1;31mTypeError\u001b[0m: say_hello() missing 2 required positional arguments: 'name' and 'date_birth'"
     ]
    }
   ],
   "source": [
    "second_name_for_sayhello = say_hello\n",
    "second_name_for_sayhello()"
   ]
  },
  {
   "cell_type": "code",
   "execution_count": null,
   "metadata": {},
   "outputs": [
    {
     "name": "stdout",
     "output_type": "stream",
     "text": [
      "1 True\n",
      "2 True\n",
      "3 True\n",
      "4 False\n",
      "5 True\n",
      "6 False\n",
      "7 True\n",
      "8 False\n",
      "9 False\n",
      "10 False\n",
      "11 True\n",
      "12 False\n",
      "13 True\n",
      "14 False\n",
      "15 False\n",
      "16 False\n",
      "17 True\n",
      "18 False\n",
      "19 True\n",
      "20 False\n",
      "21 False\n",
      "22 False\n",
      "23 True\n",
      "24 False\n",
      "25 False\n",
      "26 False\n",
      "27 False\n",
      "28 False\n",
      "29 True\n",
      "30 False\n",
      "31 True\n",
      "32 False\n",
      "33 False\n",
      "34 False\n",
      "35 False\n",
      "36 False\n",
      "37 True\n",
      "38 False\n",
      "39 False\n",
      "40 False\n",
      "41 True\n",
      "42 False\n",
      "43 True\n",
      "44 False\n",
      "45 False\n",
      "46 False\n",
      "47 True\n",
      "48 False\n",
      "49 False\n",
      "50 False\n",
      "51 False\n",
      "52 False\n",
      "53 True\n",
      "54 False\n",
      "55 False\n",
      "56 False\n",
      "57 False\n",
      "58 False\n",
      "59 True\n",
      "60 False\n",
      "61 True\n",
      "62 False\n",
      "63 False\n",
      "64 False\n",
      "65 False\n",
      "66 False\n",
      "67 True\n",
      "68 False\n",
      "69 False\n",
      "70 False\n",
      "71 True\n",
      "72 False\n",
      "73 True\n",
      "74 False\n",
      "75 False\n",
      "76 False\n",
      "77 False\n",
      "78 False\n",
      "79 True\n",
      "80 False\n",
      "81 False\n",
      "82 False\n",
      "83 True\n",
      "84 False\n",
      "85 False\n",
      "86 False\n",
      "87 False\n",
      "88 False\n",
      "89 True\n",
      "90 False\n",
      "91 False\n",
      "92 False\n",
      "93 False\n",
      "94 False\n",
      "95 False\n",
      "96 False\n",
      "97 True\n",
      "98 False\n",
      "99 False\n",
      "100 False\n",
      "101 True\n",
      "102 False\n",
      "103 True\n",
      "104 False\n",
      "105 False\n",
      "106 False\n",
      "107 True\n",
      "108 False\n",
      "109 True\n",
      "110 False\n",
      "111 False\n",
      "112 False\n",
      "113 True\n",
      "114 False\n",
      "115 False\n",
      "116 False\n",
      "117 False\n",
      "118 False\n",
      "119 False\n",
      "120 False\n",
      "121 False\n",
      "122 False\n",
      "123 False\n",
      "124 False\n",
      "125 False\n",
      "126 False\n",
      "127 True\n",
      "128 False\n",
      "129 False\n",
      "130 False\n",
      "131 True\n",
      "132 False\n",
      "133 False\n",
      "134 False\n",
      "135 False\n",
      "136 False\n",
      "137 True\n",
      "138 False\n",
      "139 True\n",
      "140 False\n",
      "141 False\n",
      "142 False\n",
      "143 False\n",
      "144 False\n",
      "145 False\n",
      "146 False\n",
      "147 False\n",
      "148 False\n",
      "149 True\n"
     ]
    }
   ],
   "source": [
    "# 1,2,3,5,7,11...\n",
    "\n",
    "def is_prime(num):\n",
    "    for sub_num in range(2, num):\n",
    "        if num%sub_num == 0:\n",
    "            return False\n",
    "    return True\n",
    "\n",
    "for num in range(1, 150):\n",
    "    print(num, is_prime(num))"
   ]
  },
  {
   "cell_type": "code",
   "execution_count": null,
   "metadata": {},
   "outputs": [
    {
     "data": {
      "text/plain": [
       "89"
      ]
     },
     "execution_count": 46,
     "metadata": {},
     "output_type": "execute_result"
    }
   ],
   "source": [
    "# Fibonacci\n",
    "# 0,1,1,2,3,5,8,13,21, 34, 55, 89\n",
    "\n",
    "# fibonacci(6) -> 13\n",
    "# a_n+1 = a + a_n-1\n",
    "\n",
    "\n",
    "def fibonacci(num):\n",
    "    if num == 0 or num == 1:\n",
    "        return 1\n",
    "    return fibonacci(num-1) + fibonacci(num-2)\n",
    "\n",
    "fibonacci(10)\n",
    "# recursive function"
   ]
  },
  {
   "cell_type": "code",
   "execution_count": null,
   "metadata": {},
   "outputs": [],
   "source": [
    "# arguments - *args             - tuple\n",
    "# keyword-arguments - **kwargs  - dict"
   ]
  },
  {
   "cell_type": "code",
   "execution_count": null,
   "metadata": {},
   "outputs": [
    {
     "name": "stdout",
     "output_type": "stream",
     "text": [
      "Hello John\n",
      "Hello Sarah\n",
      "Hello Andy\n",
      "Hello Ali\n"
     ]
    }
   ],
   "source": [
    "\n",
    "# def say_hello(name1, name2, *args):\n",
    "#     print(f'Hello {name1}')\n",
    "#     print(f'Hello {name2}')\n",
    "\n",
    "def say_hello(*names):\n",
    "    for name in names:\n",
    "        print(f'Hello {name}')\n",
    "\n",
    "\n",
    "say_hello('John', 'Sarah', 'Andy', 'Ali')"
   ]
  },
  {
   "cell_type": "code",
   "execution_count": null,
   "metadata": {},
   "outputs": [
    {
     "name": "stdout",
     "output_type": "stream",
     "text": [
      "age: \t20\n",
      "name: \tJosh\n",
      "is_avaliable: \tTrue\n"
     ]
    }
   ],
   "source": [
    "def print_details(**details):\n",
    "    for key, value in details.items():\n",
    "        print(f'{key}: \\t{value}')\n",
    "\n",
    "print_details(age=20, name='Josh', is_avaliable=True)"
   ]
  },
  {
   "cell_type": "code",
   "execution_count": null,
   "metadata": {},
   "outputs": [
    {
     "data": {
      "text/plain": [
       "4"
      ]
     },
     "execution_count": 48,
     "metadata": {},
     "output_type": "execute_result"
    }
   ],
   "source": [
    "max(1,2,3,4)"
   ]
  },
  {
   "cell_type": "code",
   "execution_count": 90,
   "metadata": {},
   "outputs": [
    {
     "name": "stdout",
     "output_type": "stream",
     "text": [
      "Hello , you are 0 years old.\n"
     ]
    }
   ],
   "source": [
    "def print_details(name='', age=0, *companies_worked, **extra_details):\n",
    "    print(f'Hello {name}, you are {age} years old.')\n",
    "    if companies_worked:\n",
    "        print(\"Companies you have worked: \",\", \".join(companies_worked))\n",
    "    \n",
    "    if extra_details.get('email'):\n",
    "        print('Email:', extra_details.get('email'))\n",
    "\n",
    "# print_details('Josh', 20, 'Google', 'Amazon', 'Akfa', e='josh@microsoft.com')\n",
    "print_details()"
   ]
  },
  {
   "cell_type": "code",
   "execution_count": null,
   "metadata": {},
   "outputs": [],
   "source": [
    "t = ()\n",
    "if t:\n",
    "    print('Tuple is not empty')"
   ]
  },
  {
   "cell_type": "code",
   "execution_count": null,
   "metadata": {},
   "outputs": [
    {
     "name": "stdout",
     "output_type": "stream",
     "text": [
      "no values was given\n"
     ]
    }
   ],
   "source": [
    "def say_hello(age, names='n/a'):\n",
    "    if names == 'n/a':\n",
    "        print('no values was given')\n",
    "        return None\n",
    "    return f'hello {names}'\n",
    "\n",
    "say_hello('Holly')"
   ]
  },
  {
   "cell_type": "code",
   "execution_count": null,
   "metadata": {},
   "outputs": [],
   "source": [
    "# Function documentation\n",
    "def say_hello(name:str, age:int) -> tuple:\n",
    "    \"\"\" This is a function prints \"Hello {name}\"\"\"\n",
    "    print(f'Hello {name}')\n",
    "\n",
    "say_hello"
   ]
  },
  {
   "cell_type": "code",
   "execution_count": null,
   "metadata": {},
   "outputs": [],
   "source": [
    "def say_h(name, age):\n",
    "    print(f'Hello {name}')\n",
    "    return name\n",
    "\n",
    "say_h"
   ]
  },
  {
   "cell_type": "code",
   "execution_count": null,
   "metadata": {},
   "outputs": [
    {
     "ename": "NameError",
     "evalue": "name 'y' is not defined",
     "output_type": "error",
     "traceback": [
      "\u001b[1;31m---------------------------------------------------------------------------\u001b[0m",
      "\u001b[1;31mNameError\u001b[0m                                 Traceback (most recent call last)",
      "Cell \u001b[1;32mIn[95], line 12\u001b[0m\n\u001b[0;32m      7\u001b[0m     y \u001b[38;5;241m=\u001b[39m \u001b[38;5;241m5\u001b[39m\n\u001b[0;32m     11\u001b[0m \u001b[38;5;66;03m# test(3)\u001b[39;00m\n\u001b[1;32m---> 12\u001b[0m \u001b[38;5;28mprint\u001b[39m(\u001b[43my\u001b[49m)\n",
      "\u001b[1;31mNameError\u001b[0m: name 'y' is not defined"
     ]
    }
   ],
   "source": [
    "# Scope\n",
    "x = 5\n",
    "\n",
    "def test():\n",
    "    global x\n",
    "    print(x)\n",
    "    y = 5\n",
    "\n",
    "\n",
    "\n",
    "# test(3)\n",
    "print(y)"
   ]
  },
  {
   "cell_type": "code",
   "execution_count": 96,
   "metadata": {},
   "outputs": [
    {
     "data": {
      "text/plain": [
       "25"
      ]
     },
     "execution_count": 96,
     "metadata": {},
     "output_type": "execute_result"
    }
   ],
   "source": [
    "def square(num:int) -> int:\n",
    "    return num**2\n",
    "\n",
    "square(5)"
   ]
  },
  {
   "cell_type": "code",
   "execution_count": 97,
   "metadata": {},
   "outputs": [
    {
     "data": {
      "text/plain": [
       "64"
      ]
     },
     "execution_count": 97,
     "metadata": {},
     "output_type": "execute_result"
    }
   ],
   "source": [
    "square_2 = lambda num: num**2\n",
    "\n",
    "square_2(8)"
   ]
  },
  {
   "cell_type": "code",
   "execution_count": null,
   "metadata": {},
   "outputs": [],
   "source": [
    "map(), filter()"
   ]
  },
  {
   "cell_type": "code",
   "execution_count": 103,
   "metadata": {},
   "outputs": [],
   "source": [
    "ls = range(1,50)\n",
    "\n",
    "ls_squared = map(lambda num: num**2, ls)"
   ]
  },
  {
   "cell_type": "code",
   "execution_count": 104,
   "metadata": {},
   "outputs": [
    {
     "data": {
      "text/plain": [
       "[1,\n",
       " 4,\n",
       " 9,\n",
       " 16,\n",
       " 25,\n",
       " 36,\n",
       " 49,\n",
       " 64,\n",
       " 81,\n",
       " 100,\n",
       " 121,\n",
       " 144,\n",
       " 169,\n",
       " 196,\n",
       " 225,\n",
       " 256,\n",
       " 289,\n",
       " 324,\n",
       " 361,\n",
       " 400,\n",
       " 441,\n",
       " 484,\n",
       " 529,\n",
       " 576,\n",
       " 625,\n",
       " 676,\n",
       " 729,\n",
       " 784,\n",
       " 841,\n",
       " 900,\n",
       " 961,\n",
       " 1024,\n",
       " 1089,\n",
       " 1156,\n",
       " 1225,\n",
       " 1296,\n",
       " 1369,\n",
       " 1444,\n",
       " 1521,\n",
       " 1600,\n",
       " 1681,\n",
       " 1764,\n",
       " 1849,\n",
       " 1936,\n",
       " 2025,\n",
       " 2116,\n",
       " 2209,\n",
       " 2304,\n",
       " 2401]"
      ]
     },
     "execution_count": 104,
     "metadata": {},
     "output_type": "execute_result"
    }
   ],
   "source": [
    "list(ls_squared)"
   ]
  },
  {
   "cell_type": "code",
   "execution_count": 105,
   "metadata": {},
   "outputs": [],
   "source": [
    "def is_prime(num):\n",
    "    for sub_num in range(2, num):\n",
    "        if num%sub_num == 0:\n",
    "            return False\n",
    "    return True\n",
    "\n",
    "prime_numbers = list(filter(is_prime, list(range(1, 101))))"
   ]
  },
  {
   "cell_type": "code",
   "execution_count": 106,
   "metadata": {},
   "outputs": [
    {
     "data": {
      "text/plain": [
       "[1,\n",
       " 2,\n",
       " 3,\n",
       " 5,\n",
       " 7,\n",
       " 11,\n",
       " 13,\n",
       " 17,\n",
       " 19,\n",
       " 23,\n",
       " 29,\n",
       " 31,\n",
       " 37,\n",
       " 41,\n",
       " 43,\n",
       " 47,\n",
       " 53,\n",
       " 59,\n",
       " 61,\n",
       " 67,\n",
       " 71,\n",
       " 73,\n",
       " 79,\n",
       " 83,\n",
       " 89,\n",
       " 97]"
      ]
     },
     "execution_count": 106,
     "metadata": {},
     "output_type": "execute_result"
    }
   ],
   "source": [
    "prime_numbers"
   ]
  }
 ],
 "metadata": {
  "kernelspec": {
   "display_name": "Python 3",
   "language": "python",
   "name": "python3"
  },
  "language_info": {
   "codemirror_mode": {
    "name": "ipython",
    "version": 3
   },
   "file_extension": ".py",
   "mimetype": "text/x-python",
   "name": "python",
   "nbconvert_exporter": "python",
   "pygments_lexer": "ipython3",
   "version": "3.13.1"
  }
 },
 "nbformat": 4,
 "nbformat_minor": 2
}
