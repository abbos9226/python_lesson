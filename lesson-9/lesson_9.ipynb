{
 "cells": [
  {
   "cell_type": "markdown",
   "metadata": {},
   "source": [
    "Count the number of words in a file\n"
   ]
  },
  {
   "cell_type": "code",
   "execution_count": 2,
   "metadata": {},
   "outputs": [
    {
     "name": "stdout",
     "output_type": "stream",
     "text": [
      "The number of words: 2\n",
      "['Hello', 'world']\n"
     ]
    }
   ],
   "source": [
    "with open('test.txt', 'r') as file:\n",
    "    data = file.read().split()\n",
    "    print(f'The number of words: {len(data)}')\n",
    "    print(data)"
   ]
  },
  {
   "cell_type": "markdown",
   "metadata": {},
   "source": [
    "Find and replace in a file"
   ]
  },
  {
   "cell_type": "code",
   "execution_count": 4,
   "metadata": {},
   "outputs": [],
   "source": [
    "with open('test.txt', 'w+') as file:\n",
    "    for i in file:\n",
    "        print(i.replace('Hello', 'Bye'))"
   ]
  },
  {
   "cell_type": "code",
   "execution_count": null,
   "metadata": {},
   "outputs": [],
   "source": [
    "with open('test.txt', 'r+') as file:\n",
    "    data = file.read().replace('Hello', 'Bye')\n",
    "with open('test.txt', 'w') as file:\n",
    "    file.write(data)"
   ]
  },
  {
   "cell_type": "code",
   "execution_count": 9,
   "metadata": {},
   "outputs": [
    {
     "name": "stdout",
     "output_type": "stream",
     "text": [
      "You got zero division error\n",
      "Execution completed\n"
     ]
    }
   ],
   "source": [
    "try:\n",
    "    3/0\n",
    "except ZeroDivisionError as z:\n",
    "    print('You got zero division error')\n",
    "finally:\n",
    "    print('Execution completed')    "
   ]
  },
  {
   "cell_type": "markdown",
   "metadata": {},
   "source": [
    "Remove blank lines from a file"
   ]
  },
  {
   "cell_type": "code",
   "execution_count": 14,
   "metadata": {},
   "outputs": [],
   "source": [
    "with open('test.txt', 'r') as file:\n",
    "    data = [line for line in file if line.strip()]\n",
    "with open('test.txt', 'w') as file:\n",
    "    file.writelines(data)"
   ]
  },
  {
   "cell_type": "code",
   "execution_count": 11,
   "metadata": {},
   "outputs": [
    {
     "data": {
      "text/plain": [
       "'Abdu lla'"
      ]
     },
     "execution_count": 11,
     "metadata": {},
     "output_type": "execute_result"
    }
   ],
   "source": [
    "ls = '   Abdu lla    '\n",
    "ls.strip()"
   ]
  },
  {
   "cell_type": "code",
   "execution_count": 15,
   "metadata": {},
   "outputs": [
    {
     "name": "stdout",
     "output_type": "stream",
     "text": [
      "['Hello world\\n', 'Bye']\n"
     ]
    }
   ],
   "source": [
    "with open('test.txt', 'r') as file:\n",
    "    data = file.readlines()\n",
    "    print(data)"
   ]
  },
  {
   "cell_type": "markdown",
   "metadata": {},
   "source": [
    "## Classes"
   ]
  },
  {
   "cell_type": "code",
   "execution_count": 16,
   "metadata": {},
   "outputs": [],
   "source": [
    "t = str('John')"
   ]
  },
  {
   "cell_type": "code",
   "execution_count": 58,
   "metadata": {},
   "outputs": [],
   "source": [
    "class Football_players:\n",
    "    \"\"\"This class is created for football players\"\"\"\n",
    "    football_players_count = 0\n",
    "    def __init__(self, name, age):\n",
    "        self.name = name\n",
    "        self.age = age\n",
    "        Football_players.football_players_count +=1\n",
    "        self.goal = 0\n",
    "\n",
    "    def run(self):\n",
    "        print(f'{self.name} is running')\n",
    "    \n",
    "    def goal(self):\n",
    "        self.goal +=1"
   ]
  },
  {
   "cell_type": "code",
   "execution_count": 61,
   "metadata": {},
   "outputs": [],
   "source": [
    "player1 = Football_players('Ronaldo', 37)\n",
    "player2 = Football_players('Messi', 36)\n",
    "\n"
   ]
  },
  {
   "cell_type": "code",
   "execution_count": 59,
   "metadata": {},
   "outputs": [
    {
     "data": {
      "text/plain": [
       "4"
      ]
     },
     "execution_count": 59,
     "metadata": {},
     "output_type": "execute_result"
    }
   ],
   "source": [
    "player2.football_players_count"
   ]
  },
  {
   "cell_type": "code",
   "execution_count": 62,
   "metadata": {},
   "outputs": [
    {
     "ename": "TypeError",
     "evalue": "'int' object is not callable",
     "output_type": "error",
     "traceback": [
      "\u001b[1;31m---------------------------------------------------------------------------\u001b[0m",
      "\u001b[1;31mTypeError\u001b[0m                                 Traceback (most recent call last)",
      "Cell \u001b[1;32mIn[62], line 1\u001b[0m\n\u001b[1;32m----> 1\u001b[0m \u001b[43mplayer1\u001b[49m\u001b[38;5;241;43m.\u001b[39;49m\u001b[43mgoal\u001b[49m\u001b[43m(\u001b[49m\u001b[43m)\u001b[49m\n",
      "\u001b[1;31mTypeError\u001b[0m: 'int' object is not callable"
     ]
    }
   ],
   "source": [
    "player1.goal()"
   ]
  },
  {
   "cell_type": "code",
   "execution_count": 81,
   "metadata": {},
   "outputs": [],
   "source": [
    "class car:\n",
    "    def __init__(self, model, year, mark):\n",
    "        self.modeli = model\n",
    "        self.yili = year\n",
    "        self.markasi = mark\n",
    "        self.mileage = 0\n",
    "\n",
    "    def info(self):\n",
    "        print(f'Modeli: {self.modeli}\\nYili: {self.yili}\\nMarkasi: {self.markasi}\\nKm: {self.mileage}')  \n",
    "\n",
    "    def mileage_add(self):\n",
    "        self.mileage +=100 \n",
    "\n",
    "    def cnt(self):\n",
    "        count = 0\n",
    "        for i in self.modeli:\n",
    "            count +=1\n",
    "        print(count)"
   ]
  },
  {
   "cell_type": "code",
   "execution_count": 76,
   "metadata": {},
   "outputs": [
    {
     "name": "stdout",
     "output_type": "stream",
     "text": [
      "Modeli: Matiz\n",
      "Yili: 1996\n",
      "Markasi: Daewoo\n",
      "Km: 0\n",
      "-------------------------\n",
      "Modeli: Matiz\n",
      "Yili: 1996\n",
      "Markasi: Daewoo\n",
      "Km: 100\n",
      "-------------------------\n",
      "Modeli: Matiz\n",
      "Yili: 1996\n",
      "Markasi: Daewoo\n",
      "Km: 200\n"
     ]
    }
   ],
   "source": [
    "car1 = car('Matiz', 1996, 'Daewoo')\n",
    "car1.info()\n",
    "car1.mileage_add()\n",
    "print('-'*25)\n",
    "car1.info()\n",
    "car1.mileage_add()\n",
    "print('-'*25)\n",
    "car1.info()"
   ]
  },
  {
   "cell_type": "code",
   "execution_count": 84,
   "metadata": {},
   "outputs": [
    {
     "name": "stdout",
     "output_type": "stream",
     "text": [
      "5\n"
     ]
    }
   ],
   "source": [
    "car1 = car('Matiz', 1996, 'Daewoo')\n",
    "car1.cnt()"
   ]
  },
  {
   "cell_type": "code",
   "execution_count": 78,
   "metadata": {},
   "outputs": [
    {
     "name": "stdout",
     "output_type": "stream",
     "text": [
      "m\n",
      "a\n",
      "t\n",
      "i\n",
      "z\n"
     ]
    }
   ],
   "source": [
    "for i in 'matiz':\n",
    "    print(i)"
   ]
  },
  {
   "cell_type": "code",
   "execution_count": 94,
   "metadata": {},
   "outputs": [],
   "source": [
    "class ball:\n",
    "    def __init__(self, color, ball_type, size):\n",
    "        self.color = color\n",
    "        self.ball_type = ball_type\n",
    "        self.size = size\n",
    "\n",
    "    def bounce(self):\n",
    "        if self.ball_type.lower() =='bowling':\n",
    "            print('Bowling balls can\\'t bounce')\n",
    "        else:\n",
    "            print(f'{self.ball_type} can bounce')"
   ]
  },
  {
   "cell_type": "code",
   "execution_count": 95,
   "metadata": {},
   "outputs": [
    {
     "name": "stdout",
     "output_type": "stream",
     "text": [
      "Bowling balls can't bounce\n"
     ]
    }
   ],
   "source": [
    "ball1 = ball('red', 'Bowling', 4)\n",
    "ball1.bounce()"
   ]
  },
  {
   "cell_type": "code",
   "execution_count": 97,
   "metadata": {},
   "outputs": [
    {
     "name": "stdout",
     "output_type": "stream",
     "text": [
      "soccer ball can bounce\n"
     ]
    }
   ],
   "source": [
    "ball2 = ball('blue', 'soccer ball', 3)\n",
    "ball2.bounce()"
   ]
  },
  {
   "cell_type": "code",
   "execution_count": 98,
   "metadata": {},
   "outputs": [
    {
     "data": {
      "text/plain": [
       "['__add__',\n",
       " '__class__',\n",
       " '__contains__',\n",
       " '__delattr__',\n",
       " '__dir__',\n",
       " '__doc__',\n",
       " '__eq__',\n",
       " '__format__',\n",
       " '__ge__',\n",
       " '__getattribute__',\n",
       " '__getitem__',\n",
       " '__getnewargs__',\n",
       " '__gt__',\n",
       " '__hash__',\n",
       " '__init__',\n",
       " '__init_subclass__',\n",
       " '__iter__',\n",
       " '__le__',\n",
       " '__len__',\n",
       " '__lt__',\n",
       " '__mod__',\n",
       " '__mul__',\n",
       " '__ne__',\n",
       " '__new__',\n",
       " '__reduce__',\n",
       " '__reduce_ex__',\n",
       " '__repr__',\n",
       " '__rmod__',\n",
       " '__rmul__',\n",
       " '__setattr__',\n",
       " '__sizeof__',\n",
       " '__str__',\n",
       " '__subclasshook__',\n",
       " 'capitalize',\n",
       " 'casefold',\n",
       " 'center',\n",
       " 'count',\n",
       " 'encode',\n",
       " 'endswith',\n",
       " 'expandtabs',\n",
       " 'find',\n",
       " 'format',\n",
       " 'format_map',\n",
       " 'index',\n",
       " 'isalnum',\n",
       " 'isalpha',\n",
       " 'isascii',\n",
       " 'isdecimal',\n",
       " 'isdigit',\n",
       " 'isidentifier',\n",
       " 'islower',\n",
       " 'isnumeric',\n",
       " 'isprintable',\n",
       " 'isspace',\n",
       " 'istitle',\n",
       " 'isupper',\n",
       " 'join',\n",
       " 'ljust',\n",
       " 'lower',\n",
       " 'lstrip',\n",
       " 'maketrans',\n",
       " 'partition',\n",
       " 'removeprefix',\n",
       " 'removesuffix',\n",
       " 'replace',\n",
       " 'rfind',\n",
       " 'rindex',\n",
       " 'rjust',\n",
       " 'rpartition',\n",
       " 'rsplit',\n",
       " 'rstrip',\n",
       " 'split',\n",
       " 'splitlines',\n",
       " 'startswith',\n",
       " 'strip',\n",
       " 'swapcase',\n",
       " 'title',\n",
       " 'translate',\n",
       " 'upper',\n",
       " 'zfill']"
      ]
     },
     "execution_count": 98,
     "metadata": {},
     "output_type": "execute_result"
    }
   ],
   "source": [
    "t = 'john'\n",
    "dir(t)"
   ]
  },
  {
   "cell_type": "code",
   "execution_count": 104,
   "metadata": {},
   "outputs": [],
   "source": [
    "class Database:\n",
    "    def __init__(self, name):\n",
    "        self.name = name\n",
    "\n",
    "    def __connect__(self):\n",
    "        print(f'Connecting to {self.name} database...')\n",
    "\n",
    "    def fetch_data(self):\n",
    "        print('Fetching Data')\n",
    "        self.__connect__()"
   ]
  },
  {
   "cell_type": "code",
   "execution_count": 105,
   "metadata": {},
   "outputs": [
    {
     "name": "stdout",
     "output_type": "stream",
     "text": [
      "Connecting to Oracle database...\n"
     ]
    }
   ],
   "source": [
    "db = Database('Oracle')\n",
    "db.__connect__()"
   ]
  },
  {
   "cell_type": "code",
   "execution_count": null,
   "metadata": {},
   "outputs": [
    {
     "ename": "TypeError",
     "evalue": "expected 1 argument, got 0",
     "output_type": "error",
     "traceback": [
      "\u001b[1;31m---------------------------------------------------------------------------\u001b[0m",
      "\u001b[1;31mTypeError\u001b[0m                                 Traceback (most recent call last)",
      "Cell \u001b[1;32mIn[107], line 1\u001b[0m\n\u001b[1;32m----> 1\u001b[0m \u001b[43mt\u001b[49m\u001b[38;5;241;43m.\u001b[39;49m\u001b[38;5;21;43m__add__\u001b[39;49m\u001b[43m(\u001b[49m\u001b[43m)\u001b[49m\n",
      "\u001b[1;31mTypeError\u001b[0m: expected 1 argument, got 0"
     ]
    }
   ],
   "source": []
  },
  {
   "cell_type": "markdown",
   "metadata": {},
   "source": [
    "super()"
   ]
  },
  {
   "cell_type": "code",
   "execution_count": 110,
   "metadata": {},
   "outputs": [],
   "source": [
    "class Animal:\n",
    "    def __init__(self, name):\n",
    "        self.name = name\n",
    "\n",
    "    def speak(self):\n",
    "        print(f'{self.name} is making sound')\n",
    "\n",
    "class Dog(Animal):\n",
    "    def __init__(self, name, breed):\n",
    "        self.breed = breed\n",
    "        super().__init__(name)\n",
    "        \n",
    "    def speak(self):\n",
    "        super().speak()\n",
    "        print(f'{self.breed} is barking')"
   ]
  },
  {
   "cell_type": "code",
   "execution_count": 111,
   "metadata": {},
   "outputs": [
    {
     "name": "stdout",
     "output_type": "stream",
     "text": [
      "Dog is making sound\n"
     ]
    }
   ],
   "source": [
    "animal1 = Animal('Dog')\n",
    "animal1.speak()"
   ]
  },
  {
   "cell_type": "code",
   "execution_count": 112,
   "metadata": {},
   "outputs": [
    {
     "name": "stdout",
     "output_type": "stream",
     "text": [
      "Dog is making sound\n",
      "Golden Retriever is barking\n"
     ]
    }
   ],
   "source": [
    "animal2 = Dog('Dog', 'Golden Retriever')\n",
    "animal2.speak()"
   ]
  },
  {
   "cell_type": "code",
   "execution_count": 113,
   "metadata": {},
   "outputs": [],
   "source": [
    "class Book:\n",
    "    fontsize = 9\n",
    "    page_width = 14\n",
    "\n",
    "    def __init__(self, name, writer, year):\n",
    "        self.name = name\n",
    "        self.writer = writer\n",
    "        self.year = year\n",
    "        \n",
    "    def pr(self):\n",
    "        print(f'Book name: {self.name}\\nWriter: {self.writer}\\nPublishing Year: {self.year}\\nFontsize: {self.fontsize}\\nPage Width: {self.page_width}')"
   ]
  },
  {
   "cell_type": "code",
   "execution_count": 114,
   "metadata": {},
   "outputs": [
    {
     "name": "stdout",
     "output_type": "stream",
     "text": [
      "Book name: Book1\n",
      "Writer: Jack London\n",
      "Publishing Year: 1800\n",
      "Fontsize: 9\n",
      "Page Width: 14\n"
     ]
    }
   ],
   "source": [
    "book1 = Book('Book1', 'Jack London', 1800)\n",
    "book1.pr()"
   ]
  },
  {
   "cell_type": "code",
   "execution_count": 115,
   "metadata": {},
   "outputs": [
    {
     "name": "stdout",
     "output_type": "stream",
     "text": [
      "Book name: Book2\n",
      "Writer: Jack London\n",
      "Publishing Year: 1800\n",
      "Fontsize: 9\n",
      "Page Width: 14\n"
     ]
    }
   ],
   "source": [
    "book2 = Book('Book2', 'Jack London', 1800)\n",
    "book2.pr()"
   ]
  }
 ],
 "metadata": {
  "kernelspec": {
   "display_name": "Python 3",
   "language": "python",
   "name": "python3"
  },
  "language_info": {
   "codemirror_mode": {
    "name": "ipython",
    "version": 3
   },
   "file_extension": ".py",
   "mimetype": "text/x-python",
   "name": "python",
   "nbconvert_exporter": "python",
   "pygments_lexer": "ipython3",
   "version": "3.10.9"
  }
 },
 "nbformat": 4,
 "nbformat_minor": 2
}
