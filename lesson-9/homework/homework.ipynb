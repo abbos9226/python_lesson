{
 "cells": [
  {
   "cell_type": "code",
   "execution_count": 1,
   "metadata": {},
   "outputs": [],
   "source": [
    "#Problem 1: Define a class Car with attributes brand and year. Create an object and print its attributes\n",
    "\n",
    "class car:\n",
    "    def __init__(self,brand,year):\n",
    "        self.brandi=brand\n",
    "        self.yili=year\n",
    "    def print(self):\n",
    "        print(f'Brandi: {self.brandi} \\nYili: {self.yili}')\n"
   ]
  },
  {
   "cell_type": "code",
   "execution_count": 2,
   "metadata": {},
   "outputs": [
    {
     "name": "stdout",
     "output_type": "stream",
     "text": [
      "Brandi: Matiz \n",
      "Yili: 2005\n"
     ]
    }
   ],
   "source": [
    "car1=car('Matiz',2005)\n",
    "car1.print()"
   ]
  },
  {
   "cell_type": "code",
   "execution_count": 3,
   "metadata": {},
   "outputs": [],
   "source": [
    "#Problem 2: Create a class Person with a default constructor that sets name = \"John\" and age = 30.\n",
    "class person_info:\n",
    "    name='John'\n",
    "    age=30\n",
    "    def __init__(self,height,weight):\n",
    "        self.boyi=height\n",
    "        self.vazni=weight\n",
    "    def print(self):\n",
    "        print(f'ismi: {self.name} \\nYoshi:{self.age} \\nBo\\'yi:{self.boyi} \\nVazni:{self.vazni}')\n",
    "        "
   ]
  },
  {
   "cell_type": "code",
   "execution_count": 5,
   "metadata": {},
   "outputs": [
    {
     "name": "stdout",
     "output_type": "stream",
     "text": [
      "ismi: John \n",
      "Yoshi:30 \n",
      "Bo'yi:175 \n",
      "Vazni:75\n"
     ]
    }
   ],
   "source": [
    "person1=person_info(175,75)\n",
    "person1.print()"
   ]
  },
  {
   "cell_type": "code",
   "execution_count": 6,
   "metadata": {},
   "outputs": [],
   "source": [
    "#Problem 3: Create a class Circle with an attribute radius and a method area() that returns the area of the circle.\n",
    "import math\n",
    "\n",
    "class Circle:\n",
    "    def __init__(self, radius):\n",
    "        self.radius = radius\n",
    "    \n",
    "    def area(self):\n",
    "        return math.pi * self.radius ** 2"
   ]
  },
  {
   "cell_type": "code",
   "execution_count": 7,
   "metadata": {},
   "outputs": [
    {
     "name": "stdout",
     "output_type": "stream",
     "text": [
      "Area: 78.53981633974483\n"
     ]
    }
   ],
   "source": [
    "circle = Circle(5)\n",
    "print(\"Area:\", circle.area())"
   ]
  },
  {
   "cell_type": "code",
   "execution_count": null,
   "metadata": {},
   "outputs": [],
   "source": [
    "#Problem 4: Define a class Rectangle with methods area() and perimeter().\n",
    "class Rectangle:\n",
    "    def __init__(self, length, width):\n",
    "        self.length = length\n",
    "        self.width = width\n",
    "    \n",
    "    def area(self):\n",
    "        return self.length * self.width\n",
    "    \n",
    "    def perimeter(self):\n",
    "        return 2 * (self.length + self.width)\n"
   ]
  },
  {
   "cell_type": "code",
   "execution_count": 5,
   "metadata": {},
   "outputs": [
    {
     "name": "stdout",
     "output_type": "stream",
     "text": [
      "Rectangle Area: 24\n",
      "Rectangle Perimeter: 20\n"
     ]
    }
   ],
   "source": [
    "\n",
    "rectangle = Rectangle(4, 6)\n",
    "print(\"Rectangle Area:\", rectangle.area())\n",
    "print(\"Rectangle Perimeter:\", rectangle.perimeter())"
   ]
  },
  {
   "cell_type": "code",
   "execution_count": 6,
   "metadata": {},
   "outputs": [],
   "source": [
    "class bankAccout:\n",
    "    def __init__(self,amount=0):\n",
    "        self._balance=amount\n",
    "    def deposit(self,amount):\n",
    "        if amount>0:\n",
    "            self._balance+=amount\n",
    "            print(f'Deposit: {amount}, New balance:{self._balance}')\n",
    "        else:\n",
    "            print('Amoint should be positive')\n",
    "    def withdraw(self,amount):\n",
    "        if 0<amount<=self._balance:\n",
    "            self._balance-=amount\n",
    "            print(f'Withdraw:{amount}, New balance {self._balance}')\n",
    "        else:\n",
    "            print('Invalid withdrawal')\n",
    "    def get_balance(self):\n",
    "        return self._balance\n",
    "        "
   ]
  },
  {
   "cell_type": "code",
   "execution_count": 10,
   "metadata": {},
   "outputs": [
    {
     "name": "stdout",
     "output_type": "stream",
     "text": [
      "Deposit: 50, New balance:150\n",
      "Withdraw:30, New balance 120\n",
      "Final Balance: 120\n"
     ]
    }
   ],
   "source": [
    "account = bankAccout(100)\n",
    "account.deposit(50)\n",
    "account.withdraw(30)\n",
    "print(\"Final Balance:\", account.get_balance())"
   ]
  }
 ],
 "metadata": {
  "kernelspec": {
   "display_name": "Python 3",
   "language": "python",
   "name": "python3"
  },
  "language_info": {
   "codemirror_mode": {
    "name": "ipython",
    "version": 3
   },
   "file_extension": ".py",
   "mimetype": "text/x-python",
   "name": "python",
   "nbconvert_exporter": "python",
   "pygments_lexer": "ipython3",
   "version": "3.13.1"
  }
 },
 "nbformat": 4,
 "nbformat_minor": 2
}
