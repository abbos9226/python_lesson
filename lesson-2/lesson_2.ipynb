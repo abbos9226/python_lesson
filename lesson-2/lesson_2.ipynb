{
 "cells": [
  {
   "cell_type": "markdown",
   "metadata": {},
   "source": [
    "Lesson 2"
   ]
  },
  {
   "cell_type": "code",
   "execution_count": 14,
   "metadata": {},
   "outputs": [
    {
     "ename": "IndentationError",
     "evalue": "expected an indented block after 'if' statement on line 3 (350544101.py, line 4)",
     "output_type": "error",
     "traceback": [
      "\u001b[1;36m  Cell \u001b[1;32mIn[14], line 4\u001b[1;36m\u001b[0m\n\u001b[1;33m    print(\"Hello {}, You are not allowed since your age is {}\".format(name,age))\u001b[0m\n\u001b[1;37m    ^\u001b[0m\n\u001b[1;31mIndentationError\u001b[0m\u001b[1;31m:\u001b[0m expected an indented block after 'if' statement on line 3\n"
     ]
    }
   ],
   "source": [
    "age=int(input(\"yoshingizni kiriting:\"))\n",
    "name=input(\"Ismingizni kiriting: \")\n",
    "if name <18:\n",
    "print(\"Hello {}, You are not allowed since your age is {}\".format(name,age))\n",
    "else: \n",
    "print(\"Hello {}, Youe are welcome!\".format(name))"
   ]
  },
  {
   "cell_type": "code",
   "execution_count": 3,
   "metadata": {},
   "outputs": [
    {
     "name": "stdout",
     "output_type": "stream",
     "text": [
      "Hello Abbos, your age is 25\n"
     ]
    }
   ],
   "source": [
    "age=25\n",
    "name='Abbos'\n",
    "print(\"Hello {}, your age is {}\".format(name,age))"
   ]
  },
  {
   "cell_type": "code",
   "execution_count": 17,
   "metadata": {},
   "outputs": [
    {
     "name": "stdout",
     "output_type": "stream",
     "text": [
      "Hello Abb, You are welcome!\n"
     ]
    }
   ],
   "source": [
    "age=int(input(\"yoshingizni kiriting:\"))\n",
    "name=input(\"Ismingizni kiriting: \")\n",
    "\n",
    "if age<18:\n",
    "    print(\"Hello {}, You are not allowed since your age is {}\".format(name,age))\n",
    "else:\n",
    "    print(\"Hello {}, You are welcome!\".format(name))"
   ]
  },
  {
   "cell_type": "markdown",
   "metadata": {},
   "source": [
    "F string\n"
   ]
  },
  {
   "cell_type": "code",
   "execution_count": 19,
   "metadata": {},
   "outputs": [
    {
     "data": {
      "text/plain": [
       "'Hello Abbos, your age is 21'"
      ]
     },
     "execution_count": 19,
     "metadata": {},
     "output_type": "execute_result"
    }
   ],
   "source": [
    "age=int(input(\"Enter your age:\"))\n",
    "name=input(\"enter your name: \")\n",
    "\n",
    "f\"Hello {name}, your age is {age}\""
   ]
  },
  {
   "cell_type": "code",
   "execution_count": 21,
   "metadata": {},
   "outputs": [
    {
     "data": {
      "text/plain": [
       "'23'"
      ]
     },
     "execution_count": 21,
     "metadata": {},
     "output_type": "execute_result"
    }
   ],
   "source": [
    "age\n",
    "f'{age + 2}'"
   ]
  },
  {
   "cell_type": "code",
   "execution_count": 24,
   "metadata": {},
   "outputs": [
    {
     "name": "stdout",
     "output_type": "stream",
     "text": [
      "ABBOS\n"
     ]
    }
   ],
   "source": [
    "name\n",
    "print(f'{name.upper()}')    "
   ]
  },
  {
   "cell_type": "code",
   "execution_count": 29,
   "metadata": {},
   "outputs": [
    {
     "name": "stdout",
     "output_type": "stream",
     "text": [
      "hello Abbos, your age is under 17\n"
     ]
    }
   ],
   "source": [
    "name=input(\"Ismingizni kiriting:\")\n",
    "age=int(input(\"yoshingizni kiriting: \"))\n",
    "\n",
    "if age<18:\n",
    "    print(f'hello {name}, your age is under {age}')\n",
    "else:\n",
    "    print(f'Hello {name}, your age is {age} so you are allowed!')"
   ]
  },
  {
   "cell_type": "code",
   "execution_count": 34,
   "metadata": {},
   "outputs": [
    {
     "data": {
      "text/plain": [
       "'Otakulov'"
      ]
     },
     "execution_count": 34,
     "metadata": {},
     "output_type": "execute_result"
    }
   ],
   "source": [
    "surname='Otakulov'\n",
    "surname"
   ]
  },
  {
   "cell_type": "code",
   "execution_count": 35,
   "metadata": {},
   "outputs": [
    {
     "data": {
      "text/plain": [
       "'Abbos Otakulov'"
      ]
     },
     "execution_count": 35,
     "metadata": {},
     "output_type": "execute_result"
    }
   ],
   "source": [
    "' '.join([name, surname])"
   ]
  },
  {
   "cell_type": "markdown",
   "metadata": {},
   "source": [
    " ## Homework 1\n",
    "\n",
    "Extract car names from this text.\n",
    "\n",
    "txt = 'MsaatmiazD'\n",
    "\n",
    "## Homework 2\n",
    "\n",
    "Extract residence are from this text.\n",
    "\n",
    "txt = \"I'am John. I am from London\""
   ]
  },
  {
   "cell_type": "code",
   "execution_count": 73,
   "metadata": {},
   "outputs": [
    {
     "name": "stdout",
     "output_type": "stream",
     "text": [
      " The first car name is Matiz \n",
      " The second car name is Damas\n"
     ]
    }
   ],
   "source": [
    "#Homework 1\n",
    "txt = 'MsaatmiazD'\n",
    "car1 = txt[0::2]\n",
    "car2 = txt[-1::-2]\n",
    "print(f' The first car name is {car1} \\n The second car name is {car2}')"
   ]
  },
  {
   "cell_type": "code",
   "execution_count": 3,
   "metadata": {},
   "outputs": [
    {
     "data": {
      "text/plain": [
       "'London'"
      ]
     },
     "execution_count": 3,
     "metadata": {},
     "output_type": "execute_result"
    }
   ],
   "source": [
    "#Homework 2\n",
    "txt = \"I am John. I am from London\"\n",
    "word=txt.split()[-1] #split - xar bir so'zni ajratib bitta deb qaraydi.\n",
    "word "
   ]
  }
 ],
 "metadata": {
  "kernelspec": {
   "display_name": "Python 3",
   "language": "python",
   "name": "python3"
  },
  "language_info": {
   "codemirror_mode": {
    "name": "ipython",
    "version": 3
   },
   "file_extension": ".py",
   "mimetype": "text/x-python",
   "name": "python",
   "nbconvert_exporter": "python",
   "pygments_lexer": "ipython3",
   "version": "3.13.1"
  }
 },
 "nbformat": 4,
 "nbformat_minor": 2
}
