{
 "cells": [
  {
   "cell_type": "markdown",
   "metadata": {},
   "source": [
    "## File Handling Puzzles"
   ]
  },
  {
   "cell_type": "code",
   "execution_count": 8,
   "metadata": {},
   "outputs": [],
   "source": [
    "# Puzzle 1: Write to a File \n",
    "# Create a file example.txt and write \"Hello, World!\" using w mode.\n",
    "\n",
    "with open('example.txt', 'w') as test:\n",
    "    test.write('Hello, World!')"
   ]
  },
  {
   "cell_type": "code",
   "execution_count": 9,
   "metadata": {},
   "outputs": [
    {
     "name": "stdout",
     "output_type": "stream",
     "text": [
      "Hello, World!\n"
     ]
    }
   ],
   "source": [
    "with open('example.txt','r') as test:\n",
    "    data=test.read()\n",
    "    print(data)"
   ]
  },
  {
   "cell_type": "code",
   "execution_count": 17,
   "metadata": {},
   "outputs": [],
   "source": [
    "# Puzzle 2: Append to a File \n",
    "# Append \"This is an appended line.\" to example.txt.\n",
    "with open('example.txt','a') as test:\n",
    "    test.write('\\nthis is appended line') "
   ]
  },
  {
   "cell_type": "code",
   "execution_count": 18,
   "metadata": {},
   "outputs": [
    {
     "name": "stdout",
     "output_type": "stream",
     "text": [
      "Hello, World!\n",
      "this is appended line\n",
      "this is appended line\n",
      "this is appended line\n"
     ]
    }
   ],
   "source": [
    "with open('example.txt','r') as test:\n",
    "    data=test.read()\n",
    "    print(data)"
   ]
  },
  {
   "cell_type": "code",
   "execution_count": 20,
   "metadata": {},
   "outputs": [
    {
     "name": "stdout",
     "output_type": "stream",
     "text": [
      "Hello\n"
     ]
    }
   ],
   "source": [
    "# Puzzle 3: Read a File \n",
    "# Read and print the content of example.txt.\n",
    "\n",
    "with open('example.txt','w+') as test:\n",
    "    test.write('Hello')\n",
    "    test.seek(0)\n",
    "    data=test.read()\n",
    "    print(data)\n"
   ]
  },
  {
   "cell_type": "code",
   "execution_count": 21,
   "metadata": {},
   "outputs": [
    {
     "name": "stdout",
     "output_type": "stream",
     "text": [
      "Python is fun!\n"
     ]
    }
   ],
   "source": [
    "# Puzzle 4: Write and Read a File\n",
    "# Write \"Python is fun!\" to test.txt and read it\n",
    "with open('example.txt','w+') as test:\n",
    "    test.write('Python is fun!')\n",
    "    test.seek(0)\n",
    "    data=test.read()\n",
    "    print(data)\n"
   ]
  },
  {
   "cell_type": "code",
   "execution_count": 25,
   "metadata": {},
   "outputs": [
    {
     "name": "stdout",
     "output_type": "stream",
     "text": [
      "New data\n",
      "New data\n"
     ]
    }
   ],
   "source": [
    "# Puzzle 5: Append and Read \n",
    "# Append \"New data\" to log.txt, then read the entire file.\n",
    "with open('log.txt','a+') as test:\n",
    "    test.write('\\nNew data')\n",
    "    test.seek(0)\n",
    "    data=test.read()\n",
    "    print(data) \n"
   ]
  },
  {
   "cell_type": "code",
   "execution_count": 36,
   "metadata": {},
   "outputs": [
    {
     "name": "stdout",
     "output_type": "stream",
     "text": [
      "1,2,3,4,5\n"
     ]
    }
   ],
   "source": [
    "# Puzzle 6: Write a List of Numbers to a File\n",
    "# Write numbers 1 to 5, each on a new line in numbers.txt.\n",
    "with open('log.txt','w+') as test:\n",
    "    test.write('1,2,3,4,5')\n",
    "    test.seek(0)\n",
    "    data=test.read()\n",
    "    print(data) "
   ]
  },
  {
   "cell_type": "code",
   "execution_count": 46,
   "metadata": {},
   "outputs": [
    {
     "name": "stdout",
     "output_type": "stream",
     "text": [
      "qwerty\n"
     ]
    }
   ],
   "source": [
    "# Puzzle 7: Read a File Line by Line\n",
    "# Read numbers.txt line by line and print each line.\n",
    "\n",
    "with open('log.txt','r') as test:\n",
    "    for line in test:\n",
    "        print(line.strip())"
   ]
  },
  {
   "cell_type": "code",
   "execution_count": 48,
   "metadata": {},
   "outputs": [
    {
     "name": "stdout",
     "output_type": "stream",
     "text": [
      "5\n"
     ]
    }
   ],
   "source": [
    "# Puzzle 8: Count the Number of Words in a File\n",
    "# Count the number of words in story.txt.\n",
    "with open('log.txt','r') as file:\n",
    "    data=file.read()\n",
    "    words=data.split()\n",
    "    word_count=len(words)\n",
    "    print(word_count) "
   ]
  },
  {
   "cell_type": "code",
   "execution_count": 60,
   "metadata": {},
   "outputs": [],
   "source": [
    "# Puzzle 9: Find and Replace in a File\n",
    "# Replace \"old\" with \"new\" in data.txt.\n",
    "with open('log.txt','r') as test:\n",
    "    data=test.read().replace('hello','python')\n",
    "with open('log.txt','w') as test:\n",
    "    test.write(data)"
   ]
  }
 ],
 "metadata": {
  "kernelspec": {
   "display_name": "Python 3",
   "language": "python",
   "name": "python3"
  },
  "language_info": {
   "codemirror_mode": {
    "name": "ipython",
    "version": 3
   },
   "file_extension": ".py",
   "mimetype": "text/x-python",
   "name": "python",
   "nbconvert_exporter": "python",
   "pygments_lexer": "ipython3",
   "version": "3.13.1"
  }
 },
 "nbformat": 4,
 "nbformat_minor": 2
}
