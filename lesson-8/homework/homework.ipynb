{
 "cells": [
  {
   "cell_type": "code",
   "execution_count": 10,
   "metadata": {},
   "outputs": [],
   "source": [
    "def say_hello(name, birth_year):\n",
    "    print(f'Hello {name}, your are {2025-birth_year} years old')"
   ]
  },
  {
   "cell_type": "code",
   "execution_count": 11,
   "metadata": {},
   "outputs": [
    {
     "name": "stdout",
     "output_type": "stream",
     "text": [
      "Hello Abbos, your are 28 years old\n"
     ]
    }
   ],
   "source": [
    "say_hello(\"Abbos\",1997)"
   ]
  },
  {
   "cell_type": "markdown",
   "metadata": {},
   "source": [
    "## Python Homework Problems\n",
    "### No Parameters / No Return Value\n"
   ]
  },
  {
   "cell_type": "code",
   "execution_count": 14,
   "metadata": {},
   "outputs": [
    {
     "name": "stdout",
     "output_type": "stream",
     "text": [
      "Hello world\n"
     ]
    }
   ],
   "source": [
    "#1. Write a function `greet()` that prints 'Hello, World!' when called.\n",
    "def greet():\n",
    "    print('Hello world')\n",
    "\n",
    "greet() "
   ]
  },
  {
   "cell_type": "code",
   "execution_count": 21,
   "metadata": {},
   "outputs": [
    {
     "name": "stdout",
     "output_type": "stream",
     "text": [
      "Time is 2025-02-15 11:27:52\n"
     ]
    }
   ],
   "source": [
    "#2. Create a function `show_date_time()` that prints the current date and time.\n",
    "from datetime import datetime \n",
    "def show_date_time():\n",
    "    now=datetime.now()\n",
    "    print('Time is', now.strftime(\"%Y-%m-%d %H:%M:%S\"))\n",
    "\n",
    "show_date_time()"
   ]
  },
  {
   "cell_type": "code",
   "execution_count": 4,
   "metadata": {},
   "outputs": [],
   "source": [
    "#3. Write a function `display_even_numbers()` that prints even numbers from 1 to 20.\n",
    "def odd_num():\n",
    "    for x in range(1,21):\n",
    "        if x%2==0:\n",
    "            print(x)"
   ]
  },
  {
   "cell_type": "code",
   "execution_count": 5,
   "metadata": {},
   "outputs": [
    {
     "name": "stdout",
     "output_type": "stream",
     "text": [
      "2\n",
      "4\n",
      "6\n",
      "8\n",
      "10\n",
      "12\n",
      "14\n",
      "16\n",
      "18\n",
      "20\n"
     ]
    }
   ],
   "source": [
    "odd_num()"
   ]
  },
  {
   "cell_type": "markdown",
   "metadata": {},
   "source": [
    "### Parameters / No Return Value"
   ]
  },
  {
   "cell_type": "code",
   "execution_count": 6,
   "metadata": {},
   "outputs": [],
   "source": [
    "#4. Write a function `greet_user(name)` that takes a name as a parameter and prints 'Hello, [name]!'\n",
    "def say_hello(name):\n",
    "    print(f\"Hello {name}\")\n"
   ]
  },
  {
   "cell_type": "code",
   "execution_count": 7,
   "metadata": {},
   "outputs": [
    {
     "name": "stdout",
     "output_type": "stream",
     "text": [
      "Hello Abbos\n"
     ]
    }
   ],
   "source": [
    "say_hello('Abbos')"
   ]
  },
  {
   "cell_type": "code",
   "execution_count": 16,
   "metadata": {},
   "outputs": [],
   "source": [
    "#5. Create a function `print_square(n)` that prints the square of a given number.\n",
    "def square(number):\n",
    "    print(number**2)"
   ]
  },
  {
   "cell_type": "code",
   "execution_count": 18,
   "metadata": {},
   "outputs": [
    {
     "name": "stdout",
     "output_type": "stream",
     "text": [
      "100\n"
     ]
    }
   ],
   "source": [
    "square(10)"
   ]
  },
  {
   "cell_type": "code",
   "execution_count": 20,
   "metadata": {},
   "outputs": [],
   "source": [
    "#6. Write a function `multiply_numbers(a, b)` that takes two numbers and prints their product.\n",
    "def numbers(a,b):\n",
    "    print(a*b)"
   ]
  },
  {
   "cell_type": "code",
   "execution_count": 21,
   "metadata": {},
   "outputs": [
    {
     "name": "stdout",
     "output_type": "stream",
     "text": [
      "6\n"
     ]
    }
   ],
   "source": [
    "numbers(2,3)"
   ]
  },
  {
   "cell_type": "markdown",
   "metadata": {},
   "source": [
    "### No Parameters / Return Value"
   ]
  },
  {
   "cell_type": "code",
   "execution_count": 24,
   "metadata": {},
   "outputs": [],
   "source": [
    "#7. Write a function `get_pi()` that returns the value of π (3.14159).\n",
    "import math\n",
    "def get_pi():\n",
    "    return math.pi\n"
   ]
  },
  {
   "cell_type": "code",
   "execution_count": 30,
   "metadata": {},
   "outputs": [
    {
     "data": {
      "text/plain": [
       "3.141592653589793"
      ]
     },
     "execution_count": 30,
     "metadata": {},
     "output_type": "execute_result"
    }
   ],
   "source": [
    "get_pi()"
   ]
  },
  {
   "cell_type": "code",
   "execution_count": 45,
   "metadata": {},
   "outputs": [],
   "source": [
    "#8. Create a function `random_number()` that returns a random number between 1 and 100.\n",
    "import random\n",
    "def get_random():\n",
    "    return random.randint(1,100)\n"
   ]
  },
  {
   "cell_type": "code",
   "execution_count": 57,
   "metadata": {},
   "outputs": [
    {
     "data": {
      "text/plain": [
       "34"
      ]
     },
     "execution_count": 57,
     "metadata": {},
     "output_type": "execute_result"
    }
   ],
   "source": [
    "get_random()"
   ]
  },
  {
   "cell_type": "code",
   "execution_count": 77,
   "metadata": {},
   "outputs": [],
   "source": [
    "#9. Write a function `current_year()` that returns the current year \n",
    "import datetime\n",
    "def cur_year():\n",
    "    return datetime.datetime.now().year"
   ]
  },
  {
   "cell_type": "code",
   "execution_count": 78,
   "metadata": {},
   "outputs": [
    {
     "data": {
      "text/plain": [
       "2025"
      ]
     },
     "execution_count": 78,
     "metadata": {},
     "output_type": "execute_result"
    }
   ],
   "source": [
    "cur_year()"
   ]
  },
  {
   "cell_type": "markdown",
   "metadata": {},
   "source": [
    "### Parameters / Return Value"
   ]
  },
  {
   "cell_type": "code",
   "execution_count": 79,
   "metadata": {},
   "outputs": [],
   "source": [
    "#10. Write a function `add_numbers(a, b)` that returns the sum of two numbers.\n",
    "def sum_num(a,b):\n",
    "    print(a+b)"
   ]
  },
  {
   "cell_type": "code",
   "execution_count": 80,
   "metadata": {},
   "outputs": [
    {
     "name": "stdout",
     "output_type": "stream",
     "text": [
      "3\n"
     ]
    }
   ],
   "source": [
    "sum_num(1,2)"
   ]
  },
  {
   "cell_type": "code",
   "execution_count": 81,
   "metadata": {},
   "outputs": [],
   "source": [
    "#11. Create a function `is_even(n)` that returns `True` if the number is even and `False` otherwise.\n",
    "def tr_fl(a):\n",
    "    if a%2==0:\n",
    "        return True\n",
    "    else:\n",
    "        return False"
   ]
  },
  {
   "cell_type": "code",
   "execution_count": 84,
   "metadata": {},
   "outputs": [
    {
     "data": {
      "text/plain": [
       "False"
      ]
     },
     "execution_count": 84,
     "metadata": {},
     "output_type": "execute_result"
    }
   ],
   "source": [
    "tr_fl(7)"
   ]
  },
  {
   "cell_type": "code",
   "execution_count": 88,
   "metadata": {},
   "outputs": [],
   "source": [
    "#12. Write a function `get_factorial(n)` that returns the factorial of a given number.\n",
    "import math\n",
    "def factorial(a):\n",
    "    return math.factorial(a)"
   ]
  },
  {
   "cell_type": "code",
   "execution_count": 91,
   "metadata": {},
   "outputs": [
    {
     "data": {
      "text/plain": [
       "120"
      ]
     },
     "execution_count": 91,
     "metadata": {},
     "output_type": "execute_result"
    }
   ],
   "source": [
    "factorial(5)"
   ]
  },
  {
   "cell_type": "markdown",
   "metadata": {},
   "source": [
    "### Recursive Functions\n"
   ]
  },
  {
   "cell_type": "code",
   "execution_count": 120,
   "metadata": {},
   "outputs": [
    {
     "name": "stdout",
     "output_type": "stream",
     "text": [
      "3\n",
      "2\n",
      "1\n"
     ]
    }
   ],
   "source": [
    "#13. Write a recursive function `countdown(n)` that prints numbers from `n` to `1`.\n",
    "def countdown(n):\n",
    "    if n<=0:\n",
    "        return\n",
    "    print(n)\n",
    "    countdown(n-1)\n",
    "countdown(3)"
   ]
  },
  {
   "cell_type": "code",
   "execution_count": 119,
   "metadata": {},
   "outputs": [
    {
     "name": "stdout",
     "output_type": "stream",
     "text": [
      "21\n"
     ]
    }
   ],
   "source": [
    "#14. Create a recursive function `sum_natural(n)` that returns the sum of the first `n` natural numbers.\n",
    "def sum_num(a):\n",
    "    if a<=0:\n",
    "        return 0\n",
    "    return a+sum_num(a-1)\n",
    "print(sum_num(6))"
   ]
  },
  {
   "cell_type": "code",
   "execution_count": 127,
   "metadata": {},
   "outputs": [
    {
     "name": "stdout",
     "output_type": "stream",
     "text": [
      "5\n"
     ]
    }
   ],
   "source": [
    "#15. Write a recursive function `fibonacci(n)` that returns the `n`th Fibonacci number.\n",
    "#0,1,1,2,3,5,8,13,21... Fobinecci numbers! \n",
    "def fobinacci(a):\n",
    "    if a<=0:\n",
    "        return 0\n",
    "    elif a==1:\n",
    "        return 0\n",
    "    elif a==2:\n",
    "        return 1\n",
    "    return fobinacci(a-1)+fobinacci(a-2)\n",
    "\n",
    "print(fobinacci(6)) #6-fobinecci raqam nechi? "
   ]
  },
  {
   "cell_type": "markdown",
   "metadata": {},
   "source": [
    "### *args and **kwargs"
   ]
  },
  {
   "cell_type": "code",
   "execution_count": 129,
   "metadata": {},
   "outputs": [
    {
     "name": "stdout",
     "output_type": "stream",
     "text": [
      "15\n"
     ]
    }
   ],
   "source": [
    "#16. Write a function `sum_numbers(*args)` that takes multiple numbers and returns their sum.\n",
    "def sum_number(*args):\n",
    "    return sum(args)\n",
    "\n",
    "result=sum_number(1,2,3,4,5)\n",
    "print(result)"
   ]
  },
  {
   "cell_type": "code",
   "execution_count": 135,
   "metadata": {},
   "outputs": [
    {
     "name": "stdout",
     "output_type": "stream",
     "text": [
      "name:Abbos\n",
      "age:26\n",
      "city:New york\n"
     ]
    }
   ],
   "source": [
    "#17. Create a function `print_info(**kwargs)` that prints key-value pairs passed as arguments.\n",
    "def print_info(**kwargs):\n",
    "    for key, value in kwargs.items():\n",
    "        print(f'{key}:{value}')\n",
    "\n",
    "print_info(name=\"Abbos\", age=26, city=\"New york\") "
   ]
  },
  {
   "cell_type": "markdown",
   "metadata": {},
   "source": [
    "### Default Arguments\n"
   ]
  },
  {
   "cell_type": "code",
   "execution_count": 143,
   "metadata": {},
   "outputs": [
    {
     "data": {
      "text/plain": [
       "16"
      ]
     },
     "execution_count": 143,
     "metadata": {},
     "output_type": "execute_result"
    }
   ],
   "source": [
    "#18. Write a function `power(base, exponent=2)` that returns `base` raised to the power of `exponent`.\n",
    "def power(base, exponent=2):\n",
    "    return base ** exponent\n",
    "\n",
    "power(2,4)"
   ]
  },
  {
   "cell_type": "markdown",
   "metadata": {},
   "source": [
    "### Function Type Hinting & Documentation\n"
   ]
  },
  {
   "cell_type": "code",
   "execution_count": 149,
   "metadata": {},
   "outputs": [
    {
     "data": {
      "text/plain": [
       "45"
      ]
     },
     "execution_count": 149,
     "metadata": {},
     "output_type": "execute_result"
    }
   ],
   "source": [
    "#19. Create a function `calculate_area(length: float, width: float) -> float` that returns the area of a rectangle. \n",
    "# Add a docstring explaining the function.\n",
    "\n",
    "def calculate_area(length: float, width: float) -> float:\n",
    "    return length * width\n",
    "\n",
    "calculate_area(5,9)\n"
   ]
  },
  {
   "cell_type": "markdown",
   "metadata": {},
   "source": [
    "### Scope, map(), and filter()"
   ]
  },
  {
   "cell_type": "code",
   "execution_count": 155,
   "metadata": {},
   "outputs": [
    {
     "data": {
      "text/plain": [
       "[4, 16, 36]"
      ]
     },
     "execution_count": 155,
     "metadata": {},
     "output_type": "execute_result"
    }
   ],
   "source": [
    "#20. Given a list of numbers, use `map()` to square each number and use `filter()` to return only the even squares. \n",
    "# Write a function `process_numbers(nums: list) -> list`.\n",
    "def process_numbers(nums: list) -> list:\n",
    "    squared_number = map(lambda x: x**2, nums)\n",
    "    even_squares= filter(lambda x: x%2==0, squared_number)\n",
    "    return list(even_squares)\n",
    "numbers=[1,2,3,4,5,6,7]\n",
    "process_numbers(numbers) "
   ]
  }
 ],
 "metadata": {
  "kernelspec": {
   "display_name": "Python 3",
   "language": "python",
   "name": "python3"
  },
  "language_info": {
   "codemirror_mode": {
    "name": "ipython",
    "version": 3
   },
   "file_extension": ".py",
   "mimetype": "text/x-python",
   "name": "python",
   "nbconvert_exporter": "python",
   "pygments_lexer": "ipython3",
   "version": "3.13.1"
  }
 },
 "nbformat": 4,
 "nbformat_minor": 2
}
