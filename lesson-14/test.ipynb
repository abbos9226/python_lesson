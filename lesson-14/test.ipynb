{
 "cells": [
  {
   "cell_type": "code",
   "execution_count": 1,
   "metadata": {},
   "outputs": [
    {
     "data": {
      "text/plain": [
       "{'books': [{'id': 1,\n",
       "   'title': 'To Kill a Mockingbird',\n",
       "   'author': 'Harper Lee',\n",
       "   'publication_year': 1960,\n",
       "   'genre': ['Fiction', 'Classic'],\n",
       "   'publisher': 'J.B. Lippincott & Co.',\n",
       "   'isbn': '9780061120084'},\n",
       "  {'id': 2,\n",
       "   'title': '1984',\n",
       "   'author': 'George Orwell',\n",
       "   'publication_year': 1949,\n",
       "   'genre': ['Fiction', 'Dystopian'],\n",
       "   'publisher': 'Secker & Warburg',\n",
       "   'isbn': '9780451524935'},\n",
       "  {'id': 3,\n",
       "   'title': 'The Great Gatsby',\n",
       "   'author': 'F. Scott Fitzgerald',\n",
       "   'publication_year': 1925,\n",
       "   'genre': ['Fiction', 'Classic'],\n",
       "   'publisher': \"Charles Scribner's Sons\",\n",
       "   'isbn': '9780743273565'},\n",
       "  {'id': 4,\n",
       "   'title': 'The Hobbit',\n",
       "   'author': 'J.R.R. Tolkien',\n",
       "   'publication_year': 1937,\n",
       "   'genre': ['Fantasy'],\n",
       "   'publisher': 'George Allen & Unwin',\n",
       "   'isbn': '9780261102217'},\n",
       "  {'id': 5,\n",
       "   'title': 'To Kill a Mockingbird',\n",
       "   'author': 'J.K. Rowling',\n",
       "   'publication_year': 1997,\n",
       "   'genre': ['Fantasy'],\n",
       "   'publisher': 'Bloomsbury',\n",
       "   'isbn': '9780747532699'}]}"
      ]
     },
     "execution_count": 1,
     "metadata": {},
     "output_type": "execute_result"
    }
   ],
   "source": [
    "import json\n",
    "with open ('books.json') as file:\n",
    "    j_obj = json.load(file)\n",
    "j_obj "
   ]
  },
  {
   "cell_type": "code",
   "execution_count": 28,
   "metadata": {},
   "outputs": [],
   "source": [
    "import requests\n",
    "import json\n",
    "a = requests.get('https://jsonplaceholder.typicode.com/posts/1')\n",
    "t=a.json()\n",
    "\n",
    "with open('new_file.json','w') as file:\n",
    "    json.dump(t,file,indent=4)\n"
   ]
  }
 ],
 "metadata": {
  "kernelspec": {
   "display_name": "Python 3",
   "language": "python",
   "name": "python3"
  },
  "language_info": {
   "codemirror_mode": {
    "name": "ipython",
    "version": 3
   },
   "file_extension": ".py",
   "mimetype": "text/x-python",
   "name": "python",
   "nbconvert_exporter": "python",
   "pygments_lexer": "ipython3",
   "version": "3.13.1"
  }
 },
 "nbformat": 4,
 "nbformat_minor": 2
}
