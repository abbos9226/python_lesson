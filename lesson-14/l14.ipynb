{
 "cells": [
  {
   "cell_type": "markdown",
   "metadata": {},
   "source": [
    "## JSON"
   ]
  },
  {
   "cell_type": "code",
   "execution_count": 2,
   "metadata": {},
   "outputs": [
    {
     "data": {
      "text/plain": [
       "dict"
      ]
     },
     "execution_count": 2,
     "metadata": {},
     "output_type": "execute_result"
    }
   ],
   "source": [
    "import json\n",
    "j = {'Name': 'Abdulla', 'age': 34, 'Height': 1.74}\n",
    "type(j)"
   ]
  },
  {
   "cell_type": "code",
   "execution_count": 2,
   "metadata": {},
   "outputs": [
    {
     "name": "stdout",
     "output_type": "stream",
     "text": [
      "{\"menu\": {\"id\": \"file\", \"value\": \"File\", \"popup\": {\"menuitem\": [{\"value\": \"New\", \"onclick\": \"CreateNewDoc()\"}, {\"value\": \"Open\", \"onclick\": \"OpenDoc()\"}, {\"value\": \"Close\", \"onclick\": \"CloseDoc()\"}]}}}\n"
     ]
    }
   ],
   "source": [
    "import json\n",
    "j = {\"menu\": {\n",
    "        \"id\": \"file\",\n",
    "        \"value\": \"File\",\n",
    "        \"popup\": {\n",
    "            \"menuitem\": [\n",
    "            {\"value\": \"New\", \"onclick\": \"CreateNewDoc()\"},\n",
    "            {\"value\": \"Open\", \"onclick\": \"OpenDoc()\"},\n",
    "            {\"value\": \"Close\", \"onclick\": \"CloseDoc()\"}\n",
    "            ]\n",
    "        }\n",
    "    }}\n",
    "\n",
    "print(json.dumps(j)) "
   ]
  },
  {
   "cell_type": "code",
   "execution_count": 4,
   "metadata": {},
   "outputs": [],
   "source": [
    "with open('test.json', 'w') as file:\n",
    "    json.dump(j, file, indent=4)\n"
   ]
  },
  {
   "cell_type": "code",
   "execution_count": 6,
   "metadata": {},
   "outputs": [
    {
     "data": {
      "text/plain": [
       "dict"
      ]
     },
     "execution_count": 6,
     "metadata": {},
     "output_type": "execute_result"
    }
   ],
   "source": [
    "j_str = \"\"\"{\"menu\": {\n",
    "        \"id\": \"file\",\n",
    "        \"value\": \"File\",\n",
    "        \"popup\": {\n",
    "            \"menuitem\": [\n",
    "            {\"value\": \"New\", \"onclick\": \"CreateNewDoc()\"},\n",
    "            {\"value\": \"Open\", \"onclick\": \"OpenDoc()\"},\n",
    "            {\"value\": \"Close\", \"onclick\": \"CloseDoc()\"}\n",
    "            ]\n",
    "        }\n",
    "    }}\"\"\"\n",
    "\n",
    "j_obj = json.loads(j_str)\n",
    "\n",
    "type(j_obj)"
   ]
  },
  {
   "cell_type": "code",
   "execution_count": 7,
   "metadata": {},
   "outputs": [
    {
     "name": "stdout",
     "output_type": "stream",
     "text": [
      "<class 'dict'>\n"
     ]
    },
    {
     "data": {
      "text/plain": [
       "{'menu': {'id': 'file',\n",
       "  'value': 'File',\n",
       "  'popup': {'menuitem': [{'value': 'New', 'onclick': 'CreateNewDoc()'},\n",
       "    {'value': 'Open', 'onclick': 'OpenDoc()'},\n",
       "    {'value': 'Close', 'onclick': 'CloseDoc()'}]}}}"
      ]
     },
     "execution_count": 7,
     "metadata": {},
     "output_type": "execute_result"
    }
   ],
   "source": [
    "with open('test.json') as file:\n",
    "    j_obj = json.load(file)\n",
    "print(type(j_obj))\n",
    "\n",
    "j_obj"
   ]
  },
  {
   "cell_type": "code",
   "execution_count": 33,
   "metadata": {},
   "outputs": [
    {
     "data": {
      "text/plain": [
       "{'books': [{'id': 1,\n",
       "   'title': 'To Kill a Mockingbird',\n",
       "   'author': 'Harper Lee',\n",
       "   'publication_year': 1960,\n",
       "   'genre': ['Fiction', 'Classic'],\n",
       "   'publisher': 'J.B. Lippincott & Co.',\n",
       "   'isbn': '9780061120084'},\n",
       "  {'id': 2,\n",
       "   'title': '1984',\n",
       "   'author': 'George Orwell',\n",
       "   'publication_year': 1949,\n",
       "   'genre': ['Fiction', 'Dystopian'],\n",
       "   'publisher': 'Secker & Warburg',\n",
       "   'isbn': '9780451524935'},\n",
       "  {'id': 3,\n",
       "   'title': 'The Great Gatsby',\n",
       "   'author': 'F. Scott Fitzgerald',\n",
       "   'publication_year': 1925,\n",
       "   'genre': ['Fiction', 'Classic'],\n",
       "   'publisher': \"Charles Scribner's Sons\",\n",
       "   'isbn': '9780743273565'},\n",
       "  {'id': 4,\n",
       "   'title': 'The Hobbit',\n",
       "   'author': 'J.R.R. Tolkien',\n",
       "   'publication_year': 1937,\n",
       "   'genre': ['Fantasy'],\n",
       "   'publisher': 'George Allen & Unwin',\n",
       "   'isbn': '9780261102217'},\n",
       "  {'id': 5,\n",
       "   'title': 'To Kill a Mockingbird',\n",
       "   'author': 'J.K. Rowling',\n",
       "   'publication_year': 1997,\n",
       "   'genre': ['Fantasy'],\n",
       "   'publisher': 'Bloomsbury',\n",
       "   'isbn': '9780747532699'}]}"
      ]
     },
     "execution_count": 33,
     "metadata": {},
     "output_type": "execute_result"
    }
   ],
   "source": [
    "with open('books.json') as file:\n",
    "    j_obj = json.load(file)\n",
    "\n",
    "j_obj"
   ]
  },
  {
   "cell_type": "code",
   "execution_count": 32,
   "metadata": {},
   "outputs": [
    {
     "data": {
      "text/plain": [
       "['JSONDecodeError',\n",
       " 'JSONDecoder',\n",
       " 'JSONEncoder',\n",
       " '__all__',\n",
       " '__author__',\n",
       " '__builtins__',\n",
       " '__cached__',\n",
       " '__doc__',\n",
       " '__file__',\n",
       " '__loader__',\n",
       " '__name__',\n",
       " '__package__',\n",
       " '__path__',\n",
       " '__spec__',\n",
       " '__version__',\n",
       " '_default_decoder',\n",
       " '_default_encoder',\n",
       " 'codecs',\n",
       " 'decoder',\n",
       " 'detect_encoding',\n",
       " 'dump',\n",
       " 'dumps',\n",
       " 'encoder',\n",
       " 'load',\n",
       " 'loads',\n",
       " 'scanner']"
      ]
     },
     "execution_count": 32,
     "metadata": {},
     "output_type": "execute_result"
    }
   ],
   "source": [
    "dir(json)"
   ]
  },
  {
   "cell_type": "markdown",
   "metadata": {},
   "source": [
    "## Requests"
   ]
  },
  {
   "cell_type": "code",
   "execution_count": 9,
   "metadata": {},
   "outputs": [
    {
     "data": {
      "text/plain": [
       "<Response [200]>"
      ]
     },
     "execution_count": 9,
     "metadata": {},
     "output_type": "execute_result"
    }
   ],
   "source": [
    "import requests as r\n",
    "\n",
    "r.get('https://jsonplaceholder.typicode.com/posts')"
   ]
  },
  {
   "cell_type": "code",
   "execution_count": 58,
   "metadata": {},
   "outputs": [],
   "source": [
    "response = r.get('https://jsonplaceholder.typicode.com/posts/1')"
   ]
  },
  {
   "cell_type": "code",
   "execution_count": 43,
   "metadata": {},
   "outputs": [
    {
     "data": {
      "text/plain": [
       "200"
      ]
     },
     "execution_count": 43,
     "metadata": {},
     "output_type": "execute_result"
    }
   ],
   "source": [
    "response.status_code"
   ]
  },
  {
   "cell_type": "code",
   "execution_count": 44,
   "metadata": {},
   "outputs": [
    {
     "name": "stdout",
     "output_type": "stream",
     "text": [
      "You are logged in\n"
     ]
    }
   ],
   "source": [
    "if response.status_code == 200:\n",
    "    print('You are logged in')\n",
    "elif response.status_code == 404:\n",
    "    print('You have error')\n",
    "else:\n",
    "    print('unknown')"
   ]
  },
  {
   "cell_type": "code",
   "execution_count": 45,
   "metadata": {},
   "outputs": [
    {
     "name": "stdout",
     "output_type": "stream",
     "text": [
      "You are logged in\n"
     ]
    }
   ],
   "source": [
    "if response.status_code:\n",
    "    print('You are logged in')\n",
    "else:\n",
    "    print('error')"
   ]
  },
  {
   "cell_type": "code",
   "execution_count": 10,
   "metadata": {},
   "outputs": [
    {
     "name": "stdout",
     "output_type": "stream",
     "text": [
      "Success\n",
      "HTTP Error: 404 Client Error: Not Found for url: https://jsonplaceholder.typicode.com/posts/invalid\n"
     ]
    }
   ],
   "source": [
    "from requests import HTTPError\n",
    "\n",
    "for url in ['https://jsonplaceholder.typicode.com/posts/1', 'https://jsonplaceholder.typicode.com/posts/invalid']:\n",
    "    try:\n",
    "        response = r.get(url)\n",
    "        response.raise_for_status()\n",
    "    except HTTPError as he:\n",
    "        print(f'HTTP Error: {he}')\n",
    "    except Exception as e:\n",
    "        print(f'Error: {e}')\n",
    "    else:\n",
    "        print('Success')\n"
   ]
  },
  {
   "cell_type": "code",
   "execution_count": 65,
   "metadata": {},
   "outputs": [],
   "source": [
    "t = response.json()"
   ]
  },
  {
   "cell_type": "code",
   "execution_count": 64,
   "metadata": {},
   "outputs": [
    {
     "data": {
      "text/plain": [
       "{'Date': 'Mon, 03 Mar 2025 14:57:05 GMT', 'Content-Type': 'application/json; charset=utf-8', 'Transfer-Encoding': 'chunked', 'Connection': 'keep-alive', 'Report-To': '{\"group\":\"heroku-nel\",\"max_age\":3600,\"endpoints\":[{\"url\":\"https://nel.heroku.com/reports?ts=1738187860&sid=e11707d5-02a7-43ef-b45e-2cf4d2036f7d&s=weCq8b1hbTxekuEhPRs7F2chNnK7jnCdlCr5cgdOomE%3D\"}]}', 'Reporting-Endpoints': 'heroku-nel=https://nel.heroku.com/reports?ts=1738187860&sid=e11707d5-02a7-43ef-b45e-2cf4d2036f7d&s=weCq8b1hbTxekuEhPRs7F2chNnK7jnCdlCr5cgdOomE%3D', 'Nel': '{\"report_to\":\"heroku-nel\",\"max_age\":3600,\"success_fraction\":0.005,\"failure_fraction\":0.05,\"response_headers\":[\"Via\"]}', 'X-Powered-By': 'Express', 'X-Ratelimit-Limit': '1000', 'X-Ratelimit-Remaining': '999', 'X-Ratelimit-Reset': '1738187866', 'Vary': 'Origin, Accept-Encoding', 'Access-Control-Allow-Credentials': 'true', 'Cache-Control': 'max-age=43200', 'Pragma': 'no-cache', 'expires': '-1', 'X-Content-Type-Options': 'nosniff', 'etag': 'W/\"124-yiKdLzqO5gfBrJFrcdJ8Yq0LGnU\"', 'Via': '1.1 vegur', 'Age': '12061', 'cf-cache-status': 'HIT', 'Server': 'cloudflare', 'CF-RAY': '91a9fbfa3f54abd8-CPH', 'Content-Encoding': 'gzip', 'alt-svc': 'h3=\":443\"; ma=86400', 'server-timing': 'cfL4;desc=\"?proto=TCP&rtt=82542&min_rtt=82288&rtt_var=23584&sent=4&recv=7&lost=0&retrans=0&sent_bytes=2840&recv_bytes=785&delivery_rate=35021&cwnd=251&unsent_bytes=0&cid=422c5187a754aa7d&ts=112&x=0\"'}"
      ]
     },
     "execution_count": 64,
     "metadata": {},
     "output_type": "execute_result"
    }
   ],
   "source": [
    "response.headers"
   ]
  },
  {
   "cell_type": "code",
   "execution_count": 66,
   "metadata": {},
   "outputs": [
    {
     "data": {
      "text/plain": [
       "1"
      ]
     },
     "execution_count": 66,
     "metadata": {},
     "output_type": "execute_result"
    }
   ],
   "source": [
    "t['userId']"
   ]
  },
  {
   "cell_type": "code",
   "execution_count": 11,
   "metadata": {},
   "outputs": [
    {
     "data": {
      "text/plain": [
       "<Response [201]>"
      ]
     },
     "execution_count": 11,
     "metadata": {},
     "output_type": "execute_result"
    }
   ],
   "source": [
    "import requests\n",
    "\n",
    "data = {\"userId\": 1, \"id\": 44, \"title\": \"Hello world\", \"body\": \"This is body\"}\n",
    "\n",
    "requests.post('https://jsonplaceholder.typicode.com/posts', data)"
   ]
  },
  {
   "cell_type": "code",
   "execution_count": 68,
   "metadata": {},
   "outputs": [
    {
     "data": {
      "text/plain": [
       "<Response [200]>"
      ]
     },
     "execution_count": 68,
     "metadata": {},
     "output_type": "execute_result"
    }
   ],
   "source": [
    "requests.delete('https://jsonplaceholder.typicode.com/posts/3')"
   ]
  },
  {
   "cell_type": "code",
   "execution_count": 69,
   "metadata": {},
   "outputs": [
    {
     "data": {
      "text/plain": [
       "<Response [201]>"
      ]
     },
     "execution_count": 69,
     "metadata": {},
     "output_type": "execute_result"
    }
   ],
   "source": [
    "requests.post('https://jsonplaceholder.typicode.com/posts', data={'test':\"hello\"})"
   ]
  },
  {
   "cell_type": "code",
   "execution_count": 12,
   "metadata": {},
   "outputs": [
    {
     "name": "stdout",
     "output_type": "stream",
     "text": [
      "{\n",
      "  \"userId\": 1,\n",
      "  \"id\": 1,\n",
      "  \"title\": \"sunt aut facere repellat provident occaecati excepturi optio reprehenderit\",\n",
      "  \"body\": \"quia et suscipit\\nsuscipit recusandae consequuntur expedita et cum\\nreprehenderit molestiae ut ut quas totam\\nnostrum rerum est autem sunt rem eveniet architecto\"\n",
      "}\n"
     ]
    }
   ],
   "source": [
    "a = requests.get('https://jsonplaceholder.typicode.com/posts/1')\n",
    "\n",
    "print(a.text)"
   ]
  },
  {
   "cell_type": "code",
   "execution_count": 16,
   "metadata": {},
   "outputs": [],
   "source": [
    "import requests\n",
    "import json\n",
    "\n",
    "r = requests.get('https://jsonplaceholder.typicode.com/posts/1')\n",
    "t = r.json()\n",
    "with open('new_file.json', 'w') as file:\n",
    "    json.dump(t, file, indent=4) \n"
   ]
  }
 ],
 "metadata": {
  "kernelspec": {
   "display_name": "Python 3",
   "language": "python",
   "name": "python3"
  },
  "language_info": {
   "codemirror_mode": {
    "name": "ipython",
    "version": 3
   },
   "file_extension": ".py",
   "mimetype": "text/x-python",
   "name": "python",
   "nbconvert_exporter": "python",
   "pygments_lexer": "ipython3",
   "version": "3.13.1"
  }
 },
 "nbformat": 4,
 "nbformat_minor": 2
}
