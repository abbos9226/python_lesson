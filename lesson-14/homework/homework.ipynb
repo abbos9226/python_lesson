{
 "cells": [
  {
   "cell_type": "markdown",
   "metadata": {},
   "source": [
    "1.Task: JSON Parsing\n",
    "write a Python script that reads the students.json JSON file and prints details of each student."
   ]
  },
  {
   "cell_type": "code",
   "execution_count": 3,
   "metadata": {},
   "outputs": [
    {
     "data": {
      "text/plain": [
       "{'books': [{'id': 1,\n",
       "   'title': 'To Kill a Mockingbird',\n",
       "   'author': 'Harper Lee',\n",
       "   'publication_year': 1960,\n",
       "   'genre': ['Fiction', 'Classic'],\n",
       "   'publisher': 'J.B. Lippincott & Co.',\n",
       "   'isbn': '9780061120084'},\n",
       "  {'id': 2,\n",
       "   'title': '1984',\n",
       "   'author': 'George Orwell',\n",
       "   'publication_year': 1949,\n",
       "   'genre': ['Fiction', 'Dystopian'],\n",
       "   'publisher': 'Secker & Warburg',\n",
       "   'isbn': '9780451524935'},\n",
       "  {'id': 3,\n",
       "   'title': 'The Great Gatsby',\n",
       "   'author': 'F. Scott Fitzgerald',\n",
       "   'publication_year': 1925,\n",
       "   'genre': ['Fiction', 'Classic'],\n",
       "   'publisher': \"Charles Scribner's Sons\",\n",
       "   'isbn': '9780743273565'},\n",
       "  {'id': 4,\n",
       "   'title': 'The Hobbit',\n",
       "   'author': 'J.R.R. Tolkien',\n",
       "   'publication_year': 1937,\n",
       "   'genre': ['Fantasy'],\n",
       "   'publisher': 'George Allen & Unwin',\n",
       "   'isbn': '9780261102217'},\n",
       "  {'id': 5,\n",
       "   'title': 'To Kill a Mockingbird',\n",
       "   'author': 'J.K. Rowling',\n",
       "   'publication_year': 1997,\n",
       "   'genre': ['Fantasy'],\n",
       "   'publisher': 'Bloomsbury',\n",
       "   'isbn': '9780747532699'}]}"
      ]
     },
     "execution_count": 3,
     "metadata": {},
     "output_type": "execute_result"
    }
   ],
   "source": [
    "import json\n",
    "\n",
    "with open('students.json') as file:\n",
    "    j_obj=json.load(file)\n",
    "\n",
    "j_obj"
   ]
  },
  {
   "cell_type": "markdown",
   "metadata": {},
   "source": [
    "2.Task: Weather API\n",
    "Use this url : https://openweathermap.org/\n",
    "Use the requests library to fetch weather data for a specific city(ex. your hometown: Tashkent) and print relevant information (temperature, humidity, etc.)."
   ]
  },
  {
   "cell_type": "code",
   "execution_count": 8,
   "metadata": {},
   "outputs": [
    {
     "name": "stdout",
     "output_type": "stream",
     "text": [
      "Error\n"
     ]
    }
   ],
   "source": [
    "import requests\n",
    "\n",
    "API_KEY=\"https://openweathermap.org/\"\n",
    "CITY=\"Tashkent\"\n",
    "\n",
    "URL = f\"http://api.openweathermap.org/data/2.5/weather?q={CITY}&appid={API_KEY}&units=metric\"\n",
    "response=requests.get(URL)\n",
    "\n",
    "if response.status_code==200:\n",
    "    data=response.json()\n",
    "    temp=data[\"main\"][\"main\"]\n",
    "    humidity=data[\"main\"][\"humidity\"]\n",
    "    weather_desc=data[\"weather\"][0][\"desciption\"]\n",
    "\n",
    "    print(f\"The weather in {CITY}:\")\n",
    "    print(f\"Temperature: {temp}\")\n",
    "    print(f\"Humididty: {humidity}\")\n",
    "    print(f\"Desciption: {weather_desc.capitalize()}\")\n",
    "else:\n",
    "    print(\"Error\") "
   ]
  }
 ],
 "metadata": {
  "kernelspec": {
   "display_name": "Python 3",
   "language": "python",
   "name": "python3"
  },
  "language_info": {
   "codemirror_mode": {
    "name": "ipython",
    "version": 3
   },
   "file_extension": ".py",
   "mimetype": "text/x-python",
   "name": "python",
   "nbconvert_exporter": "python",
   "pygments_lexer": "ipython3",
   "version": "3.13.1"
  }
 },
 "nbformat": 4,
 "nbformat_minor": 2
}
