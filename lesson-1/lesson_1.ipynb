{
 "cells": [
  {
   "cell_type": "markdown",
   "metadata": {},
   "source": [
    "Lesson1"
   ]
  },
  {
   "cell_type": "code",
   "execution_count": 60,
   "metadata": {},
   "outputs": [
    {
     "data": {
      "text/plain": [
       "'Hello'"
      ]
     },
     "execution_count": 60,
     "metadata": {},
     "output_type": "execute_result"
    }
   ],
   "source": [
    "x=\"Hello\"\n",
    "x"
   ]
  },
  {
   "cell_type": "code",
   "execution_count": 61,
   "metadata": {},
   "outputs": [
    {
     "data": {
      "text/plain": [
       "(1, 3)"
      ]
     },
     "execution_count": 61,
     "metadata": {},
     "output_type": "execute_result"
    }
   ],
   "source": [
    "x=12\n",
    "y=9\n",
    "divmod(x,y)"
   ]
  },
  {
   "cell_type": "code",
   "execution_count": 62,
   "metadata": {},
   "outputs": [
    {
     "data": {
      "text/plain": [
       "25"
      ]
     },
     "execution_count": 62,
     "metadata": {},
     "output_type": "execute_result"
    }
   ],
   "source": [
    "x=5\n",
    "y=2\n",
    "pow(x,y)"
   ]
  },
  {
   "cell_type": "code",
   "execution_count": 63,
   "metadata": {},
   "outputs": [
    {
     "data": {
      "text/plain": [
       "14"
      ]
     },
     "execution_count": 63,
     "metadata": {},
     "output_type": "execute_result"
    }
   ],
   "source": [
    "abs(-14)"
   ]
  },
  {
   "cell_type": "code",
   "execution_count": 72,
   "metadata": {},
   "outputs": [
    {
     "name": "stdout",
     "output_type": "stream",
     "text": [
      "Abbos\n"
     ]
    }
   ],
   "source": [
    "len ='Abbos'\n",
    "print(len)"
   ]
  },
  {
   "cell_type": "markdown",
   "metadata": {},
   "source": [
    "Input"
   ]
  },
  {
   "cell_type": "code",
   "execution_count": 65,
   "metadata": {},
   "outputs": [
    {
     "data": {
      "text/plain": [
       "'Abbos'"
      ]
     },
     "execution_count": 65,
     "metadata": {},
     "output_type": "execute_result"
    }
   ],
   "source": [
    "name=input(\"ismingizni kriting:\")\n",
    "name"
   ]
  },
  {
   "cell_type": "markdown",
   "metadata": {},
   "source": [
    "Given a side of square. Find its perimeter and area."
   ]
  },
  {
   "cell_type": "code",
   "execution_count": 66,
   "metadata": {},
   "outputs": [
    {
     "name": "stdout",
     "output_type": "stream",
     "text": [
      "peremetr:  40\n",
      "yuza:  100\n"
     ]
    }
   ],
   "source": [
    "x=int(input(\"Birinchi son:\"))\n",
    "y=int(input(\"Ikkinchi son:\"))\n",
    "p=2*(x+y)\n",
    "s=x*y\n",
    "print(\"peremetr: \", p)\n",
    "print(\"yuza: \", s)"
   ]
  },
  {
   "cell_type": "markdown",
   "metadata": {},
   "source": [
    "Given diameter of circle. Find its length"
   ]
  },
  {
   "cell_type": "code",
   "execution_count": 67,
   "metadata": {},
   "outputs": [
    {
     "name": "stdout",
     "output_type": "stream",
     "text": [
      "Lingth is:  31.41592653589793\n"
     ]
    }
   ],
   "source": [
    "import math\n",
    "x=int(input(\"Enter diametr:\"))\n",
    "# y=3.14\n",
    "C=math.pi*x\n",
    "print(\"Lingth is: \",C)\n"
   ]
  },
  {
   "cell_type": "markdown",
   "metadata": {},
   "source": [
    "Given two numbers a and b. Find their mean."
   ]
  },
  {
   "cell_type": "code",
   "execution_count": 68,
   "metadata": {},
   "outputs": [
    {
     "name": "stdout",
     "output_type": "stream",
     "text": [
      "Their mean is: 10.0\n"
     ]
    }
   ],
   "source": [
    "a=int(input(\"Enter number a:\"))\n",
    "b=int(input(\"Enter number b:\"))\n",
    "x=(a+b)/2\n",
    "print(\"Their mean is:\",x)"
   ]
  },
  {
   "cell_type": "markdown",
   "metadata": {},
   "source": [
    "Given two numbers a and b. Find their sum, product and square of each number."
   ]
  },
  {
   "cell_type": "code",
   "execution_count": 1,
   "metadata": {},
   "outputs": [
    {
     "name": "stdout",
     "output_type": "stream",
     "text": [
      "The sum: 20\n",
      "The product: 100\n",
      "The square of a: 100\n",
      "The square of b: 100\n"
     ]
    }
   ],
   "source": [
    "a=int(input(\"Enter number a:\"))\n",
    "b=int(input(\"Enter number b:\"))\n",
    "x=a+b\n",
    "y=a*b\n",
    "z=a*a\n",
    "w=b*b\n",
    "print(\"The sum:\",x)\n",
    "print(\"The product:\",y)\n",
    "print(\"The square of a:\",z)\n",
    "print(\"The square of b:\",y)"
   ]
  },
  {
   "cell_type": "markdown",
   "metadata": {},
   "source": [
    "Import function"
   ]
  },
  {
   "cell_type": "code",
   "execution_count": 70,
   "metadata": {},
   "outputs": [
    {
     "name": "stdout",
     "output_type": "stream",
     "text": [
      "Random number: 19\n"
     ]
    }
   ],
   "source": [
    "import random\n",
    "random_number=random.randint(1,100)\n",
    "print(\"Random number:\",random_number)"
   ]
  },
  {
   "cell_type": "code",
   "execution_count": 71,
   "metadata": {},
   "outputs": [
    {
     "name": "stdout",
     "output_type": "stream",
     "text": [
      "Current time is: 2025-01-31\n"
     ]
    }
   ],
   "source": [
    "import datetime\n",
    "cur_time=datetime.date.today()\n",
    "print(\"Current time is:\",cur_time)"
   ]
  }
 ],
 "metadata": {
  "kernelspec": {
   "display_name": "Python 3",
   "language": "python",
   "name": "python3"
  },
  "language_info": {
   "codemirror_mode": {
    "name": "ipython",
    "version": 3
   },
   "file_extension": ".py",
   "mimetype": "text/x-python",
   "name": "python",
   "nbconvert_exporter": "python",
   "pygments_lexer": "ipython3",
   "version": "3.13.1"
  }
 },
 "nbformat": 4,
 "nbformat_minor": 2
}
