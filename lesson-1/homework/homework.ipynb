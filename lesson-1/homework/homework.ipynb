{
 "cells": [
  {
   "cell_type": "markdown",
   "metadata": {},
   "source": [
    "## Homework"
   ]
  },
  {
   "cell_type": "code",
   "execution_count": null,
   "metadata": {},
   "outputs": [
    {
     "name": "stdout",
     "output_type": "stream",
     "text": [
      "peremetr:  4\n",
      "yuza:  1\n"
     ]
    }
   ],
   "source": [
    "#Given a side of square. Find its perimeter and area.\n",
    "x=int(input(\"Birinchi son:\"))\n",
    "y=int(input(\"Ikkinchi son:\"))\n",
    "p=2*(x+y)\n",
    "s=x*y\n",
    "print(\"peremetr: \", p)\n",
    "print(\"yuza: \", s)"
   ]
  },
  {
   "cell_type": "code",
   "execution_count": 4,
   "metadata": {},
   "outputs": [
    {
     "name": "stdout",
     "output_type": "stream",
     "text": [
      "Length is: 31.41592653589793\n"
     ]
    }
   ],
   "source": [
    "#Given diameter of circle. Find its length\n",
    "import math\n",
    "x=int(input('Diametrni kiriting:'))\n",
    "y=math.pi*x\n",
    "print('Length is:',y)"
   ]
  },
  {
   "cell_type": "code",
   "execution_count": 5,
   "metadata": {},
   "outputs": [
    {
     "name": "stdout",
     "output_type": "stream",
     "text": [
      "Their mean is: 1.5\n"
     ]
    }
   ],
   "source": [
    "#Given two numbers a and b. Find their mean.\n",
    "a=int(input(\"Enter number a:\"))\n",
    "b=int(input(\"Enter number b:\"))\n",
    "x=(a+b)/2\n",
    "print(\"Their mean is:\",x)"
   ]
  },
  {
   "cell_type": "code",
   "execution_count": 6,
   "metadata": {},
   "outputs": [
    {
     "name": "stdout",
     "output_type": "stream",
     "text": [
      "The sum: 5\n",
      "The product: 6\n",
      "The square of a: 4\n",
      "The square of b: 6\n"
     ]
    }
   ],
   "source": [
    "#Given two numbers a and b. Find their sum, product and square of each number.\n",
    "a=int(input(\"Enter number a:\"))\n",
    "b=int(input(\"Enter number b:\"))\n",
    "x=a+b\n",
    "y=a*b\n",
    "z=a*a\n",
    "w=b*b\n",
    "print(\"The sum:\",x)\n",
    "print(\"The product:\",y)\n",
    "print(\"The square of a:\",z)\n",
    "print(\"The square of b:\",y)"
   ]
  },
  {
   "cell_type": "code",
   "execution_count": 7,
   "metadata": {},
   "outputs": [
    {
     "name": "stdout",
     "output_type": "stream",
     "text": [
      "60\n"
     ]
    }
   ],
   "source": [
    "#show random number between 1 and 100\n",
    "import random\n",
    "x=random.randint(1,100)\n",
    "print(x)"
   ]
  },
  {
   "cell_type": "code",
   "execution_count": 9,
   "metadata": {},
   "outputs": [
    {
     "name": "stdout",
     "output_type": "stream",
     "text": [
      "2025-02-24 09:49:02.111123\n"
     ]
    }
   ],
   "source": [
    "#show today's date\n",
    "import datetime\n",
    "x=datetime.datetime.now()\n",
    "print(x)"
   ]
  }
 ],
 "metadata": {
  "kernelspec": {
   "display_name": "Python 3",
   "language": "python",
   "name": "python3"
  },
  "language_info": {
   "codemirror_mode": {
    "name": "ipython",
    "version": 3
   },
   "file_extension": ".py",
   "mimetype": "text/x-python",
   "name": "python",
   "nbconvert_exporter": "python",
   "pygments_lexer": "ipython3",
   "version": "3.13.1"
  }
 },
 "nbformat": 4,
 "nbformat_minor": 2
}
