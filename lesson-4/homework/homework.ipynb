{
 "cells": [
  {
   "cell_type": "markdown",
   "metadata": {},
   "source": [
    "Homework 4 : Dictionaries and Sets\n"
   ]
  },
  {
   "cell_type": "markdown",
   "metadata": {},
   "source": [
    "1.Given two lists:\n",
    "```python\n",
    "keys = [\"name\", \"age\", \"city\"]\n",
    "values = [\"Alice\", 25, \"New York\"]\n",
    "```\n",
    "Create a dictionary mapping keys to values using a built-in function.\n"
   ]
  },
  {
   "cell_type": "code",
   "execution_count": 4,
   "metadata": {},
   "outputs": [
    {
     "name": "stdout",
     "output_type": "stream",
     "text": [
      "{'name': 'Alice', 'age': 25, 'city': 'New York'}\n"
     ]
    }
   ],
   "source": [
    "keys = [\"name\", \"age\", \"city\"]\n",
    "values = [\"Alice\", 25, \"New York\"]\n",
    "\n",
    "result=dict(zip(keys,values)) \n",
    "print(result)"
   ]
  },
  {
   "cell_type": "markdown",
   "metadata": {},
   "source": [
    "2. Find the Maximum Value in a Dictionary\n",
    "Given the dictionary:\n",
    "```python\n",
    "scores = {\"Alice\": 85, \"Bob\": 92, \"Charlie\": 78}\n",
    "```\n",
    "Find the name of the student with the highest score using a single built-in function.\n"
   ]
  },
  {
   "cell_type": "code",
   "execution_count": 31,
   "metadata": {},
   "outputs": [
    {
     "data": {
      "text/plain": [
       "95"
      ]
     },
     "execution_count": 31,
     "metadata": {},
     "output_type": "execute_result"
    }
   ],
   "source": [
    "scores={\"Alcide\":85, \"Bob\":95, \"Charlie\":78}\n",
    "max_sc=max(scores.values()) \n",
    "max_sc "
   ]
  },
  {
   "cell_type": "markdown",
   "metadata": {},
   "source": [
    "3. Find the Union of Two Sets\n",
    "Given two sets:\n",
    "```python\n",
    "A = {1, 2, 3, 4}\n",
    "B = {3, 4, 5, 6}\n",
    "```\n",
    "Find the union of these sets using a built-in set method.\n"
   ]
  },
  {
   "cell_type": "code",
   "execution_count": 32,
   "metadata": {},
   "outputs": [
    {
     "data": {
      "text/plain": [
       "{1, 2, 3, 4, 5, 6}"
      ]
     },
     "execution_count": 32,
     "metadata": {},
     "output_type": "execute_result"
    }
   ],
   "source": [
    "a={1,2,3,4}\n",
    "b={3,4,5,6}\n",
    "\n",
    "a.union(b) "
   ]
  },
  {
   "cell_type": "markdown",
   "metadata": {},
   "source": [
    "4. Check if a Key Exists in a Dictionary\n",
    "Given the dictionary:\n",
    "```python\n",
    "person = {\"name\": \"John\", \"age\": 30, \"city\": \"London\"}\n",
    "```\n",
    "Check if `\"age\"` exists in the dictionary without using a loop."
   ]
  },
  {
   "cell_type": "code",
   "execution_count": 41,
   "metadata": {},
   "outputs": [
    {
     "data": {
      "text/plain": [
       "True"
      ]
     },
     "execution_count": 41,
     "metadata": {},
     "output_type": "execute_result"
    }
   ],
   "source": [
    "person={\"name\":\"John\", \"age\":30, \"city\":\"London\"}\n",
    "bor_yoq=\"name\" in person.keys()\n",
    "bor_yoq"
   ]
  },
  {
   "cell_type": "markdown",
   "metadata": {},
   "source": [
    "5. Get Unique Values from a Dictionary\n",
    "Given the dictionary:\n",
    "```python\n",
    "grades = {\"Alice\": \"A\", \"Bob\": \"B\", \"Charlie\": \"A\", \"David\": \"C\"}\n",
    "```\n",
    "Extract a set of all unique grades using a single line of code.\n"
   ]
  },
  {
   "cell_type": "code",
   "execution_count": 48,
   "metadata": {},
   "outputs": [
    {
     "data": {
      "text/plain": [
       "{'A', 'B', 'C'}"
      ]
     },
     "execution_count": 48,
     "metadata": {},
     "output_type": "execute_result"
    }
   ],
   "source": [
    "grades ={\"Alice\":\"A\", \"Bob\":\"B\", \"Charlie\": \"A\", \"David\":\"C\"}\n",
    "\n",
    "res=set(grades.values())\n",
    "res \n"
   ]
  },
  {
   "cell_type": "markdown",
   "metadata": {},
   "source": [
    "6. Convert a List of Tuples into a Dictionary\n",
    "Given a list of tuples:\n",
    "```python\n",
    "pairs = [(\"one\", 1), (\"two\", 2), (\"three\", 3)]\n",
    "```\n",
    "Convert it into a dictionary using a built-in function.\n"
   ]
  },
  {
   "cell_type": "code",
   "execution_count": 63,
   "metadata": {},
   "outputs": [
    {
     "data": {
      "text/plain": [
       "{'one': 1, 'two': 2, 'three': 3}"
      ]
     },
     "execution_count": 63,
     "metadata": {},
     "output_type": "execute_result"
    }
   ],
   "source": [
    "pairs = [(\"one\", 1), (\"two\", 2), (\"three\", 3)]\n",
    "result=dict(pairs)\n",
    "result"
   ]
  },
  {
   "cell_type": "markdown",
   "metadata": {},
   "source": [
    "7. Find the Minimum Value in a Dictionary\n",
    "Given the dictionary:\n",
    "```python\n",
    "temperatures = {\"Monday\": 20, \"Tuesday\": 15, \"Wednesday\": 22}\n",
    "```\n",
    "Find the day with the lowest temperature using a single built-in function.\n"
   ]
  },
  {
   "cell_type": "code",
   "execution_count": 4,
   "metadata": {},
   "outputs": [
    {
     "data": {
      "text/plain": [
       "15"
      ]
     },
     "execution_count": 4,
     "metadata": {},
     "output_type": "execute_result"
    }
   ],
   "source": [
    "temperatures = {\"Monday\": 20, \"Tuesday\": 15, \"Wednesday\": 22}\n",
    "result=min(temperatures.values()) \n",
    "result"
   ]
  },
  {
   "cell_type": "markdown",
   "metadata": {},
   "source": [
    "8. Get the Difference of Two Sets\n",
    "Given two sets:\n",
    "```python\n",
    "X = {10, 20, 30, 40}\n",
    "Y = {30, 40, 50, 60}\n",
    "```\n",
    "Find the elements that are in `X` but not in `Y` using a set method.\n"
   ]
  },
  {
   "cell_type": "code",
   "execution_count": 67,
   "metadata": {},
   "outputs": [
    {
     "data": {
      "text/plain": [
       "{10, 20}"
      ]
     },
     "execution_count": 67,
     "metadata": {},
     "output_type": "execute_result"
    }
   ],
   "source": [
    "X = {10, 20, 30, 40}\n",
    "Y = {30, 40, 50, 60}\n",
    "X.difference(Y)"
   ]
  },
  {
   "cell_type": "code",
   "execution_count": 23,
   "metadata": {},
   "outputs": [
    {
     "data": {
      "text/plain": [
       "2"
      ]
     },
     "execution_count": 23,
     "metadata": {},
     "output_type": "execute_result"
    }
   ],
   "source": [
    "#count Keys\n",
    "x = {'type' : 'fruit', 'name' : 'banana'}\n",
    "z=len(x.keys())\n",
    "z"
   ]
  },
  {
   "cell_type": "code",
   "execution_count": 52,
   "metadata": {},
   "outputs": [
    {
     "name": "stdout",
     "output_type": "stream",
     "text": [
      "Mustang\n"
     ]
    }
   ],
   "source": [
    "#get function\n",
    "car =\t{\n",
    "  \"brand\": \"Ford\",\n",
    "  \"model\": \"Mustang\",\n",
    "  \"year\": 1964\n",
    "}\n",
    "print(car.get(\"model\"))\n"
   ]
  },
  {
   "cell_type": "code",
   "execution_count": 55,
   "metadata": {},
   "outputs": [
    {
     "data": {
      "text/plain": [
       "{'type': 'bery', 'name': 'banana'}"
      ]
     },
     "execution_count": 55,
     "metadata": {},
     "output_type": "execute_result"
    }
   ],
   "source": [
    "#change value by key\n",
    "\n",
    "x = {'type' : 'fruit', 'name' : 'banana'}\n",
    "x[\"type\"]=\"bery\"\n",
    "x"
   ]
  },
  {
   "cell_type": "code",
   "execution_count": 56,
   "metadata": {},
   "outputs": [
    {
     "data": {
      "text/plain": [
       "{'brand': 'Ford', 'model': 'Mustang', 'year': 2020}"
      ]
     },
     "execution_count": 56,
     "metadata": {},
     "output_type": "execute_result"
    }
   ],
   "source": [
    "#change value by key\n",
    "car =\t{  \"brand\": \"Ford\",  \"model\": \"Mustang\",  \"year\": 1964} \n",
    "car[\"year\"]=2020\n",
    "car"
   ]
  },
  {
   "cell_type": "code",
   "execution_count": 4,
   "metadata": {},
   "outputs": [
    {
     "data": {
      "text/plain": [
       "{'type': 'fruit', 'name': 'apple'}"
      ]
     },
     "execution_count": 4,
     "metadata": {},
     "output_type": "execute_result"
    }
   ],
   "source": [
    "#change banana to apple\n",
    "x = {'type' : 'fruit', 'name' : 'banana'}\n",
    "x.update({\"name\":\"apple\"})\n",
    "x"
   ]
  },
  {
   "cell_type": "code",
   "execution_count": 32,
   "metadata": {},
   "outputs": [
    {
     "data": {
      "text/plain": [
       "{'brand': 'Ford', 'model': 'Mustang', 'year': 1964, 'color': 'red'}"
      ]
     },
     "execution_count": 32,
     "metadata": {},
     "output_type": "execute_result"
    }
   ],
   "source": [
    "#Add the key/value pair \"color\" : \"red\" to the car dictionary.\n",
    "\n",
    "car =\t{\n",
    "  \"brand\": \"Ford\",\n",
    "  \"model\": \"Mustang\",\n",
    "  \"year\": 1964\n",
    "}\n",
    "\n",
    "car.update({\"color\":\"red\"})\n",
    "car"
   ]
  }
 ],
 "metadata": {
  "kernelspec": {
   "display_name": "Python 3",
   "language": "python",
   "name": "python3"
  },
  "language_info": {
   "codemirror_mode": {
    "name": "ipython",
    "version": 3
   },
   "file_extension": ".py",
   "mimetype": "text/x-python",
   "name": "python",
   "nbconvert_exporter": "python",
   "pygments_lexer": "ipython3",
   "version": "3.13.1"
  }
 },
 "nbformat": 4,
 "nbformat_minor": 2
}
