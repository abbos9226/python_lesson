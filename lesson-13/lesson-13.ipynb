{
 "cells": [
  {
   "cell_type": "markdown",
   "metadata": {},
   "source": [
    "## Datetime regex"
   ]
  },
  {
   "cell_type": "code",
   "execution_count": 3,
   "metadata": {},
   "outputs": [
    {
     "data": {
      "text/plain": [
       "datetime.datetime(2025, 2, 28, 19, 19, 34, 39739)"
      ]
     },
     "execution_count": 3,
     "metadata": {},
     "output_type": "execute_result"
    }
   ],
   "source": [
    "import datetime\n",
    "\n",
    "now = datetime.datetime.now()\n",
    "\n",
    "now"
   ]
  },
  {
   "cell_type": "code",
   "execution_count": 4,
   "metadata": {},
   "outputs": [
    {
     "data": {
      "text/plain": [
       "datetime.date(2025, 2, 28)"
      ]
     },
     "execution_count": 4,
     "metadata": {},
     "output_type": "execute_result"
    }
   ],
   "source": [
    "now = datetime.date.today()\n",
    "now"
   ]
  },
  {
   "cell_type": "code",
   "execution_count": 5,
   "metadata": {},
   "outputs": [
    {
     "data": {
      "text/plain": [
       "['MAXYEAR',\n",
       " 'MINYEAR',\n",
       " '__all__',\n",
       " '__builtins__',\n",
       " '__cached__',\n",
       " '__doc__',\n",
       " '__file__',\n",
       " '__loader__',\n",
       " '__name__',\n",
       " '__package__',\n",
       " '__spec__',\n",
       " 'date',\n",
       " 'datetime',\n",
       " 'datetime_CAPI',\n",
       " 'sys',\n",
       " 'time',\n",
       " 'timedelta',\n",
       " 'timezone',\n",
       " 'tzinfo']"
      ]
     },
     "execution_count": 5,
     "metadata": {},
     "output_type": "execute_result"
    }
   ],
   "source": [
    "dir(datetime)"
   ]
  },
  {
   "cell_type": "code",
   "execution_count": 6,
   "metadata": {},
   "outputs": [
    {
     "name": "stdout",
     "output_type": "stream",
     "text": [
      "Today's date = 2025-02-28\n"
     ]
    }
   ],
   "source": [
    "now = datetime.date.today()\n",
    "\n",
    "print(f'Today\\'s date = {now}')"
   ]
  },
  {
   "cell_type": "code",
   "execution_count": 8,
   "metadata": {},
   "outputs": [
    {
     "name": "stdout",
     "output_type": "stream",
     "text": [
      "Current Year = 2025\n",
      "Current Month = 2\n",
      "Current Day = 28\n"
     ]
    }
   ],
   "source": [
    "from datetime import date\n",
    "\n",
    "today = date.today()\n",
    "\n",
    "print(f'Current Year = {today.year}')\n",
    "print(f'Current Month = {today.month}')\n",
    "print(f'Current Day = {today.day}')"
   ]
  },
  {
   "cell_type": "code",
   "execution_count": null,
   "metadata": {},
   "outputs": [
    {
     "data": {
      "text/plain": [
       "datetime.time(19, 0)"
      ]
     },
     "execution_count": 17,
     "metadata": {},
     "output_type": "execute_result"
    }
   ],
   "source": [
    "from datetime import time\n",
    "\n",
    "t = time(19, 21, 32, 334)\n",
    "\n",
    "t = time(hour = 20, minute = 33, second = 13)\n",
    "\n",
    "print(f'Hour = {t.hour}')\n",
    "print(f'Minute = {t.minute}')\n",
    "print(f'Second = {t.second}')"
   ]
  },
  {
   "cell_type": "code",
   "execution_count": 15,
   "metadata": {},
   "outputs": [
    {
     "name": "stdout",
     "output_type": "stream",
     "text": [
      "2022-11-13 22:34:21.044444\n"
     ]
    }
   ],
   "source": [
    "from datetime import datetime\n",
    "\n",
    "a = datetime(2022, 11, 13, 22, 34, 21, 44444)\n",
    "\n",
    "print(a)"
   ]
  },
  {
   "cell_type": "code",
   "execution_count": null,
   "metadata": {},
   "outputs": [
    {
     "name": "stdout",
     "output_type": "stream",
     "text": [
      "Difference in years = 1.7835616438356163\n"
     ]
    }
   ],
   "source": [
    "from datetime import datetime, time\n",
    "\n",
    "t1 = date(year = 2017, month = 11, day = 23)\n",
    "t2 = date(year = 2016, month = 2, day = 11)\n",
    "\n",
    "t3 = t1 - t2\n",
    "\n",
    "y = t3.days\n",
    "\n",
    "difference = y / 365\n",
    "\n",
    "print(f'Difference in years = {difference}')"
   ]
  },
  {
   "cell_type": "code",
   "execution_count": 32,
   "metadata": {},
   "outputs": [
    {
     "name": "stdout",
     "output_type": "stream",
     "text": [
      "Type of variable t3 = <class 'datetime.timedelta'>\n",
      "Type of variable t6 = <class 'datetime.timedelta'>\n"
     ]
    }
   ],
   "source": [
    "from datetime import datetime, time\n",
    "\n",
    "t1 = date(year = 2017, month = 11, day = 23)\n",
    "t2 = date(year = 2016, month = 2, day = 11)\n",
    "\n",
    "t3 = t1 - t2\n",
    "\n",
    "\n",
    "t4 = datetime(year = 2022, month = 3, day = 30)\n",
    "t5 = datetime(year = 2020, month = 9, day = 14)\n",
    "\n",
    "t6 = t4-t5\n",
    "\n",
    "print(f'Type of variable t3 = {type(t3)}')\n",
    "print(f'Type of variable t6 = {type(t6)}')"
   ]
  },
  {
   "cell_type": "code",
   "execution_count": 37,
   "metadata": {},
   "outputs": [
    {
     "data": {
      "text/plain": [
       "datetime.date(2378, 8, 11)"
      ]
     },
     "execution_count": 37,
     "metadata": {},
     "output_type": "execute_result"
    }
   ],
   "source": [
    "from datetime import date\n",
    "timestamp = date.fromtimestamp(12894428862)\n",
    "\n",
    "timestamp"
   ]
  },
  {
   "cell_type": "code",
   "execution_count": 42,
   "metadata": {},
   "outputs": [
    {
     "name": "stdout",
     "output_type": "stream",
     "text": [
      "Time: 19:47:53\n",
      "Formatted date1 = 02/28/2025, 19:47:53\n",
      "Formatted date1 = 28/02/2025, 19:47:53\n"
     ]
    }
   ],
   "source": [
    "from datetime import datetime\n",
    "\n",
    "now = datetime.now()\n",
    "\n",
    "t = now.strftime('%H:%M:%S')\n",
    "print(f\"Time: {t}\")\n",
    "\n",
    "d1 = now.strftime('%m/%d/%Y, %H:%M:%S')\n",
    "print(f'Formatted date1 = {d1}')\n",
    "\n",
    "d2 = now.strftime('%d/%m/%Y, %H:%M:%S')\n",
    "print(f'Formatted date1 = {d2}')"
   ]
  },
  {
   "cell_type": "code",
   "execution_count": null,
   "metadata": {},
   "outputs": [
    {
     "name": "stdout",
     "output_type": "stream",
     "text": [
      "Object date = 2025-09-15 00:00:00\n"
     ]
    }
   ],
   "source": [
    "from datetime import datetime\n",
    "now_str = '15 September, 2025'\n",
    "\n",
    "\n",
    "now_object = datetime.strptime(now_str, \"%d %B, %Y\")\n",
    "\n",
    "print(f\"Object date = {now_object}\")\n",
    "\n"
   ]
  },
  {
   "cell_type": "code",
   "execution_count": 63,
   "metadata": {},
   "outputs": [
    {
     "name": "stdout",
     "output_type": "stream",
     "text": [
      "Local time =  28/02/2025, 20:03:55\n",
      "NY time =  28/02/2025, 10:03:55\n",
      "London time =  28/02/2025, 15:03:55\n",
      "Kzh time =  28/02/2025, 20:03:55\n"
     ]
    }
   ],
   "source": [
    "from datetime import datetime\n",
    "import pytz\n",
    "\n",
    "local = datetime.now()\n",
    "\n",
    "print('Local time = ', local.strftime('%d/%m/%Y, %H:%M:%S'))\n",
    "\n",
    "\n",
    "NY_time = pytz.timezone('America/New_York')\n",
    "datetime_ny = datetime.now(NY_time)\n",
    "\n",
    "print('NY time = ', datetime_ny.strftime('%d/%m/%Y, %H:%M:%S'))\n",
    "\n",
    "LNDN_time = pytz.timezone('Europe/London')\n",
    "datetime_LNDN = datetime.now(LNDN_time)\n",
    "print('London time = ', datetime_LNDN.strftime('%d/%m/%Y, %H:%M:%S'))\n",
    "\n",
    "Kzh_time = pytz.timezone('Asia/Almaty')\n",
    "datetime_kzh = datetime.now(Kzh_time)\n",
    "\n",
    "print('Kzh time = ', datetime_kzh.strftime('%d/%m/%Y, %H:%M:%S'))"
   ]
  },
  {
   "cell_type": "markdown",
   "metadata": {},
   "source": [
    "## Homework:\n",
    "Create a function that will calculate age in python\n",
    "\n",
    "output( you are 24 years, 5 months, 6 days old)"
   ]
  },
  {
   "cell_type": "markdown",
   "metadata": {},
   "source": [
    "## RegEx"
   ]
  },
  {
   "cell_type": "code",
   "execution_count": null,
   "metadata": {},
   "outputs": [
    {
     "name": "stdout",
     "output_type": "stream",
     "text": [
      "Pattern matches word\n"
     ]
    }
   ],
   "source": [
    "import re\n",
    "\n",
    "pattern = '^a..x$'\n",
    "\n",
    "Word = 'alex'\n",
    "\n",
    "sl = re.match(pattern, Word)\n",
    "\n",
    "if sl:\n",
    "    print('Pattern matches word')\n",
    "else:\n",
    "    print('Pattern doesn\\'t match with word')"
   ]
  },
  {
   "cell_type": "markdown",
   "metadata": {},
   "source": [
    "## MetaCharacters = [], ^, ., {}, *, +, \\ | $"
   ]
  },
  {
   "cell_type": "code",
   "execution_count": 79,
   "metadata": {},
   "outputs": [
    {
     "name": "stdout",
     "output_type": "stream",
     "text": [
      "['a', 'b', 'c', 'a', 'b']\n",
      "5\n"
     ]
    }
   ],
   "source": [
    "import re\n",
    "\n",
    "pattern = '[abc]'\n",
    "\n",
    "word = 'abc de ab'\n",
    "\n",
    "result = re.findall(pattern, word)\n",
    "\n",
    "print(result)\n",
    "print(len(result))"
   ]
  },
  {
   "cell_type": "code",
   "execution_count": 83,
   "metadata": {},
   "outputs": [
    {
     "name": "stdout",
     "output_type": "stream",
     "text": [
      "['A', 'b', 'c']\n",
      "3\n"
     ]
    }
   ],
   "source": [
    "import re\n",
    "\n",
    "pattern = '[^0-9]'\n",
    "\n",
    "word = 'A9b1c3'\n",
    "\n",
    "result = re.findall(pattern, word)\n",
    "\n",
    "print(result)\n",
    "print(len(result))"
   ]
  },
  {
   "cell_type": "code",
   "execution_count": 89,
   "metadata": {},
   "outputs": [
    {
     "name": "stdout",
     "output_type": "stream",
     "text": [
      "['cat', ', D', 'og,', ' Bo', 'b, ', 'job', ', t', 'ren']\n",
      "8\n"
     ]
    }
   ],
   "source": [
    "pattern = '...'\n",
    "\n",
    "word = 'cat, Dog, Bob, job, trend'\n",
    "\n",
    "result = re.findall(pattern, word)\n",
    "\n",
    "print(result)\n",
    "print(len(result))"
   ]
  },
  {
   "cell_type": "code",
   "execution_count": 100,
   "metadata": {},
   "outputs": [
    {
     "name": "stdout",
     "output_type": "stream",
     "text": [
      "['rad']\n"
     ]
    }
   ],
   "source": [
    "pattern = '^rad'\n",
    "\n",
    "word = 'radius robert'\n",
    "\n",
    "result = re.findall(pattern, word)\n",
    "\n",
    "print(result)"
   ]
  },
  {
   "cell_type": "code",
   "execution_count": 104,
   "metadata": {},
   "outputs": [
    {
     "name": "stdout",
     "output_type": "stream",
     "text": [
      "['a']\n"
     ]
    }
   ],
   "source": [
    "pattern = 'a$'\n",
    "\n",
    "word = 'Abdulla'\n",
    "\n",
    "result = re.findall(pattern, word)\n",
    "\n",
    "print(result)"
   ]
  },
  {
   "cell_type": "code",
   "execution_count": 108,
   "metadata": {},
   "outputs": [
    {
     "name": "stdout",
     "output_type": "stream",
     "text": [
      "['maaaan']\n"
     ]
    }
   ],
   "source": [
    "pattern = 'ma*n'\n",
    "\n",
    "word = 'maaaan'\n",
    "\n",
    "result = re.findall(pattern, word)\n",
    "\n",
    "print(result)"
   ]
  },
  {
   "cell_type": "code",
   "execution_count": 114,
   "metadata": {},
   "outputs": [
    {
     "name": "stdout",
     "output_type": "stream",
     "text": [
      "[]\n"
     ]
    }
   ],
   "source": [
    "pattern = 'ma+n'\n",
    "word = 'main'\n",
    "result = re.findall(pattern, word)\n",
    "\n",
    "print(result)"
   ]
  },
  {
   "cell_type": "code",
   "execution_count": 121,
   "metadata": {},
   "outputs": [
    {
     "name": "stdout",
     "output_type": "stream",
     "text": [
      "[]\n"
     ]
    }
   ],
   "source": [
    "pattern = 'ma?n'\n",
    "word = 'imaaan'\n",
    "result = re.findall(pattern, word)\n",
    "\n",
    "print(result)"
   ]
  },
  {
   "cell_type": "code",
   "execution_count": 129,
   "metadata": {},
   "outputs": [
    {
     "name": "stdout",
     "output_type": "stream",
     "text": [
      "['123']\n"
     ]
    }
   ],
   "source": [
    "pattern = '[0-9]{3}'\n",
    "\n",
    "word = 'a123bc'\n",
    "result = re.findall(pattern, word)\n",
    "print(result)"
   ]
  },
  {
   "cell_type": "code",
   "execution_count": 131,
   "metadata": {},
   "outputs": [
    {
     "name": "stdout",
     "output_type": "stream",
     "text": [
      "['a', 'c']\n",
      "2\n"
     ]
    }
   ],
   "source": [
    "pattern = 'a|c'\n",
    "\n",
    "word = 'a123bc'\n",
    "result = re.findall(pattern, word)\n",
    "print(result)\n",
    "print(len(result))"
   ]
  },
  {
   "cell_type": "code",
   "execution_count": 137,
   "metadata": {},
   "outputs": [
    {
     "name": "stdout",
     "output_type": "stream",
     "text": [
      "['d']\n",
      "1\n"
     ]
    }
   ],
   "source": [
    "pattern = '(a|b|c|d)xz'\n",
    "\n",
    "word = 'abdulldxz'\n",
    "result = re.findall(pattern, word)\n",
    "print(result)\n",
    "print(len(result))"
   ]
  },
  {
   "cell_type": "code",
   "execution_count": 143,
   "metadata": {},
   "outputs": [
    {
     "name": "stdout",
     "output_type": "stream",
     "text": [
      "['foot', 'foot']\n",
      "2\n"
     ]
    }
   ],
   "source": [
    "pattern = R'\\bfoot'\n",
    "\n",
    "word = 'football football'\n",
    "result = re.findall(pattern, word)\n",
    "print(result)\n",
    "print(len(result))"
   ]
  },
  {
   "cell_type": "code",
   "execution_count": 149,
   "metadata": {},
   "outputs": [
    {
     "name": "stdout",
     "output_type": "stream",
     "text": [
      "['football football', ' ', ' ']\n",
      "3\n"
     ]
    }
   ],
   "source": [
    "pattern = R'\\D+'\n",
    "\n",
    "word = 'football football00 000 01124'\n",
    "result = re.findall(pattern, word)\n",
    "print(result)\n",
    "print(len(result))"
   ]
  },
  {
   "cell_type": "code",
   "execution_count": 153,
   "metadata": {},
   "outputs": [
    {
     "name": "stdout",
     "output_type": "stream",
     "text": [
      "['34', '67', '54', '85']\n",
      "4\n"
     ]
    }
   ],
   "source": [
    "stri = 'Test34 hello67 54 85'\n",
    "\n",
    "pattern = '\\d+'\n",
    "\n",
    "result = re.findall(pattern, stri)\n",
    "print(result)\n",
    "print(len(result))"
   ]
  },
  {
   "cell_type": "code",
   "execution_count": 156,
   "metadata": {},
   "outputs": [
    {
     "name": "stdout",
     "output_type": "stream",
     "text": [
      "['Test', ' hello', ' 54 85']\n",
      "3\n"
     ]
    }
   ],
   "source": [
    "stri = 'Test34 hello67 54 85'\n",
    "\n",
    "pattern = '\\d+'\n",
    "\n",
    "result = re.split(pattern, stri, 2)\n",
    "print(result)\n",
    "print(len(result))"
   ]
  },
  {
   "cell_type": "code",
   "execution_count": 157,
   "metadata": {},
   "outputs": [
    {
     "data": {
      "text/plain": [
       "['A',\n",
       " 'ASCII',\n",
       " 'DEBUG',\n",
       " 'DOTALL',\n",
       " 'I',\n",
       " 'IGNORECASE',\n",
       " 'L',\n",
       " 'LOCALE',\n",
       " 'M',\n",
       " 'MULTILINE',\n",
       " 'Match',\n",
       " 'Pattern',\n",
       " 'RegexFlag',\n",
       " 'S',\n",
       " 'Scanner',\n",
       " 'T',\n",
       " 'TEMPLATE',\n",
       " 'U',\n",
       " 'UNICODE',\n",
       " 'VERBOSE',\n",
       " 'X',\n",
       " '_MAXCACHE',\n",
       " '__all__',\n",
       " '__builtins__',\n",
       " '__cached__',\n",
       " '__doc__',\n",
       " '__file__',\n",
       " '__loader__',\n",
       " '__name__',\n",
       " '__package__',\n",
       " '__spec__',\n",
       " '__version__',\n",
       " '_cache',\n",
       " '_compile',\n",
       " '_compile_repl',\n",
       " '_expand',\n",
       " '_locale',\n",
       " '_pickle',\n",
       " '_special_chars_map',\n",
       " '_subx',\n",
       " 'compile',\n",
       " 'copyreg',\n",
       " 'enum',\n",
       " 'error',\n",
       " 'escape',\n",
       " 'findall',\n",
       " 'finditer',\n",
       " 'fullmatch',\n",
       " 'functools',\n",
       " 'match',\n",
       " 'purge',\n",
       " 'search',\n",
       " 'split',\n",
       " 'sre_compile',\n",
       " 'sre_parse',\n",
       " 'sub',\n",
       " 'subn',\n",
       " 'template']"
      ]
     },
     "execution_count": 157,
     "metadata": {},
     "output_type": "execute_result"
    }
   ],
   "source": [
    "dir(re)"
   ]
  },
  {
   "cell_type": "code",
   "execution_count": 165,
   "metadata": {},
   "outputs": [
    {
     "name": "stdout",
     "output_type": "stream",
     "text": [
      "asd2354f45 36\n"
     ]
    }
   ],
   "source": [
    "import re\n",
    "\n",
    "stri = 'asd 23 54 \\n f45 36'\n",
    "\n",
    "pattern = '\\s+'\n",
    "\n",
    "replace = ''\n",
    "\n",
    "result = re.sub(pattern, replace, stri, 3)\n",
    "print(result)"
   ]
  },
  {
   "cell_type": "code",
   "execution_count": 170,
   "metadata": {},
   "outputs": [
    {
     "name": "stdout",
     "output_type": "stream",
     "text": [
      "Exists\n"
     ]
    }
   ],
   "source": [
    "pattern = 'Python'\n",
    "\n",
    "string = ' is fun Python Python'\n",
    "\n",
    "srch = re.search(pattern, string)\n",
    "\n",
    "if srch:\n",
    "    print('Exists')\n",
    "else:\n",
    "    print('doesn\\'t exist')"
   ]
  },
  {
   "cell_type": "code",
   "execution_count": 174,
   "metadata": {},
   "outputs": [
    {
     "name": "stdout",
     "output_type": "stream",
     "text": [
      "801 35\n"
     ]
    }
   ],
   "source": [
    "stri = '39801 356, 2102 1111'\n",
    "\n",
    "pattern = '(\\d{3}) (\\d{2})'\n",
    "\n",
    "result = re.search(pattern, stri)\n",
    "\n",
    "\n",
    "if result:\n",
    "    print(result.group())\n",
    "else:\n",
    "    print('None')"
   ]
  },
  {
   "cell_type": "code",
   "execution_count": 180,
   "metadata": {},
   "outputs": [
    {
     "data": {
      "text/plain": [
       "tuple"
      ]
     },
     "execution_count": 180,
     "metadata": {},
     "output_type": "execute_result"
    }
   ],
   "source": [
    "type(result.groups())"
   ]
  },
  {
   "cell_type": "code",
   "execution_count": 181,
   "metadata": {},
   "outputs": [
    {
     "data": {
      "text/plain": [
       "2"
      ]
     },
     "execution_count": 181,
     "metadata": {},
     "output_type": "execute_result"
    }
   ],
   "source": [
    "result.start()"
   ]
  },
  {
   "cell_type": "code",
   "execution_count": 183,
   "metadata": {},
   "outputs": [
    {
     "data": {
      "text/plain": [
       "7"
      ]
     },
     "execution_count": 183,
     "metadata": {},
     "output_type": "execute_result"
    }
   ],
   "source": [
    "result.end() -1"
   ]
  },
  {
   "cell_type": "code",
   "execution_count": 184,
   "metadata": {},
   "outputs": [
    {
     "data": {
      "text/plain": [
       "(2, 8)"
      ]
     },
     "execution_count": 184,
     "metadata": {},
     "output_type": "execute_result"
    }
   ],
   "source": [
    "result.span()"
   ]
  },
  {
   "cell_type": "code",
   "execution_count": 185,
   "metadata": {},
   "outputs": [
    {
     "data": {
      "text/plain": [
       "re.compile(r'(\\d{3}) (\\d{2})', re.UNICODE)"
      ]
     },
     "execution_count": 185,
     "metadata": {},
     "output_type": "execute_result"
    }
   ],
   "source": [
    "result.re"
   ]
  },
  {
   "cell_type": "code",
   "execution_count": 186,
   "metadata": {},
   "outputs": [
    {
     "data": {
      "text/plain": [
       "'39801 356, 2102 1111'"
      ]
     },
     "execution_count": 186,
     "metadata": {},
     "output_type": "execute_result"
    }
   ],
   "source": [
    "result.string"
   ]
  }
 ],
 "metadata": {
  "kernelspec": {
   "display_name": "Python 3",
   "language": "python",
   "name": "python3"
  },
  "language_info": {
   "codemirror_mode": {
    "name": "ipython",
    "version": 3
   },
   "file_extension": ".py",
   "mimetype": "text/x-python",
   "name": "python",
   "nbconvert_exporter": "python",
   "pygments_lexer": "ipython3",
   "version": "3.10.9"
  }
 },
 "nbformat": 4,
 "nbformat_minor": 2
}
